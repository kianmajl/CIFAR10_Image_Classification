{
 "cells": [
  {
   "cell_type": "code",
   "execution_count": null,
   "metadata": {},
   "outputs": [],
   "source": [
    "# Importing necessary libraries and modules\n",
    "\n",
    "import matplotlib.pyplot as plt\n",
    "from matplotlib.ticker import MultipleLocator\n",
    "import pandas as pd\n",
    "import numpy as np\n",
    "from scipy.spatial import distance\n",
    "\n",
    "import torch\n",
    "from torchvision import datasets\n",
    "import torchvision.transforms as transforms\n",
    "from torchvision.models import (\n",
    "    resnet34,\n",
    "    ResNet34_Weights,\n",
    "    resnet18,\n",
    "    ResNet18_Weights,\n",
    "    vgg11,\n",
    "    VGG11_Weights,\n",
    ")\n",
    "\n",
    "from sklearn.metrics import confusion_matrix, f1_score, accuracy_score\n",
    "from tqdm.notebook import tqdm\n",
    "import seaborn as sb\n",
    "\n",
    "from copy import deepcopy\n",
    "\n",
    "# Set seaborn theme\n",
    "sb.set_theme()"
   ]
  },
  {
   "cell_type": "code",
   "execution_count": null,
   "metadata": {},
   "outputs": [],
   "source": [
    "# Check if CUDA is available and use it if possible\n",
    "device = torch.device(\"cuda\" if torch.cuda.is_available() else \"cpu\")\n",
    "print(device)"
   ]
  },
  {
   "attachments": {},
   "cell_type": "markdown",
   "metadata": {},
   "source": [
    "### Load Data"
   ]
  },
  {
   "cell_type": "code",
   "execution_count": null,
   "metadata": {},
   "outputs": [],
   "source": [
    "# Define a series of transformations to apply to an image.\n",
    "\n",
    "transform = transforms.Compose(\n",
    "    [\n",
    "        transforms.Resize(size=256),  # Resize the image to 256x256 pixels.\n",
    "        transforms.CenterCrop(\n",
    "            size=224\n",
    "        ),  # Crop the center of the image to 224x224 pixels.\n",
    "        transforms.ToTensor(),  # Convert the image to a tensor.\n",
    "        transforms.Normalize(\n",
    "            [0.485, 0.456, 0.406], [0.229, 0.224, 0.225]\n",
    "        ),  # Normalize the image with mean and standard deviation.\n",
    "    ]\n",
    ")"
   ]
  },
  {
   "cell_type": "code",
   "execution_count": null,
   "metadata": {},
   "outputs": [],
   "source": [
    "# Load the training data\n",
    "train_data = datasets.CIFAR10(\"data\", train=True, download=True, transform=transform)\n",
    "\n",
    "# Load the test data\n",
    "test_data = datasets.CIFAR10(\"data\", train=False, download=True, transform=transform)"
   ]
  },
  {
   "cell_type": "code",
   "execution_count": null,
   "metadata": {},
   "outputs": [],
   "source": [
    "# Split the training data into training and validation subsets\n",
    "train_subset, val_subset = torch.utils.data.random_split(\n",
    "    train_data, [0.85, 0.15], generator=torch.Generator().manual_seed(1)\n",
    ")"
   ]
  },
  {
   "attachments": {},
   "cell_type": "markdown",
   "metadata": {},
   "source": [
    "### Dense (Fully Connected) Layer"
   ]
  },
  {
   "cell_type": "code",
   "execution_count": null,
   "metadata": {},
   "outputs": [],
   "source": [
    "class Dense:\n",
    "    def __init__(self, n_inputs, n_neurons):\n",
    "        self.n_inputs = n_inputs\n",
    "        self.n_neurons = n_neurons\n",
    "\n",
    "        # Initialize the weights with random values based on normal distribution with He heuristic\n",
    "        self.weights = (\n",
    "            torch.randn(n_inputs, n_neurons) * torch.sqrt(torch.tensor(2.0 / n_inputs))\n",
    "        ).to(device)\n",
    "        # Initialize the biases with zeros\n",
    "        self.biases = torch.zeros(1, n_neurons).to(device)\n",
    "\n",
    "    def forward(self, inputs):\n",
    "        self.inputs = inputs\n",
    "        self.output = torch.matmul(self.inputs, self.weights) + self.biases\n",
    "\n",
    "    def backward(self, b_input):\n",
    "        self.weights_gradient = torch.matmul(self.inputs.T, b_input)\n",
    "        self.biases_gradient = torch.sum(b_input, dim=0, keepdims=True)\n",
    "        self.inputs_gradient = torch.matmul(b_input, self.weights.T)\n",
    "\n",
    "        self.b_output = self.inputs_gradient"
   ]
  },
  {
   "attachments": {},
   "cell_type": "markdown",
   "metadata": {},
   "source": [
    "### Activation Functions"
   ]
  },
  {
   "cell_type": "code",
   "execution_count": null,
   "metadata": {},
   "outputs": [],
   "source": [
    "class ReLU:\n",
    "    def __repr__(self):\n",
    "        return \"ReLU\"\n",
    "\n",
    "    def forward(self, inputs):\n",
    "        # Calculate the output using the ReLU activation function\n",
    "        self.output = torch.maximum(torch.zeros(inputs.size()).to(device), inputs)\n",
    "\n",
    "    def backward(self, b_input):\n",
    "        inputs_gradient = b_input.clone()\n",
    "        # Set the gradient to zero where the output is less than or equal to zero\n",
    "        inputs_gradient[self.output <= 0] = 0\n",
    "        self.b_output = inputs_gradient"
   ]
  },
  {
   "cell_type": "code",
   "execution_count": null,
   "metadata": {},
   "outputs": [],
   "source": [
    "class Sigmoid:\n",
    "    def __repr__(self):\n",
    "        return \"Sigmoid\"\n",
    "\n",
    "    def forward(self, inputs):\n",
    "        # Calculate the sigmoid function of the input tensor\n",
    "        self.output = 1 / (1 + torch.exp(-inputs))\n",
    "\n",
    "    def backward(self, b_input):\n",
    "        inputs_gradient = b_input * (1 - self.output) * self.output\n",
    "        self.b_output = inputs_gradient"
   ]
  }
 ],
 "metadata": {
  "language_info": {
   "name": "python"
  },
  "orig_nbformat": 4
 },
 "nbformat": 4,
 "nbformat_minor": 2
}
