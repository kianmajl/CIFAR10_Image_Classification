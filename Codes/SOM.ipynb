{
  "cells": [
    {
      "cell_type": "code",
      "execution_count": 1,
      "metadata": {
        "id": "3pl0lJFEgs8b"
      },
      "outputs": [],
      "source": [
        "# Importing necessary libraries and modules\n",
        "\n",
        "import matplotlib.pyplot as plt\n",
        "from matplotlib.ticker import MultipleLocator\n",
        "import pandas as pd\n",
        "import numpy as np\n",
        "from scipy.spatial import distance\n",
        "\n",
        "import torch\n",
        "from torchvision import datasets\n",
        "import torchvision.transforms as transforms\n",
        "from torchvision.models import (\n",
        "    resnet34,\n",
        "    ResNet34_Weights,\n",
        "    resnet18,\n",
        "    ResNet18_Weights,\n",
        "    vgg11,\n",
        "    VGG11_Weights,\n",
        ")\n",
        "\n",
        "from sklearn.metrics import confusion_matrix, f1_score, accuracy_score\n",
        "from tqdm.auto import tqdm\n",
        "import seaborn as sb\n",
        "\n",
        "from copy import deepcopy\n",
        "\n",
        "# Set seaborn theme\n",
        "sb.set_theme()"
      ]
    },
    {
      "cell_type": "code",
      "execution_count": 2,
      "metadata": {
        "colab": {
          "base_uri": "https://localhost:8080/"
        },
        "id": "AWO8xrTJgs8e",
        "outputId": "ced6a2d6-1efd-4e24-d102-9f31dffd5848"
      },
      "outputs": [
        {
          "name": "stdout",
          "output_type": "stream",
          "text": [
            "cuda\n"
          ]
        }
      ],
      "source": [
        "# Check if CUDA is available and use it if possible\n",
        "device = torch.device(\"cuda\" if torch.cuda.is_available() else \"cpu\")\n",
        "print(device)"
      ]
    },
    {
      "attachments": {},
      "cell_type": "markdown",
      "metadata": {
        "id": "qVW9UdHEx-8L"
      },
      "source": [
        "### Load Data"
      ]
    },
    {
      "cell_type": "code",
      "execution_count": 3,
      "metadata": {
        "id": "gZPL-xrSgs8f"
      },
      "outputs": [],
      "source": [
        "# Define a series of transformations to apply to an image.\n",
        "\n",
        "transform = transforms.Compose(\n",
        "    [\n",
        "        transforms.Resize(size=256),  # Resize the image to 256x256 pixels.\n",
        "        transforms.CenterCrop(\n",
        "            size=224\n",
        "        ),  # Crop the center of the image to 224x224 pixels.\n",
        "        transforms.ToTensor(),  # Convert the image to a tensor.\n",
        "        transforms.Normalize(\n",
        "            [0.485, 0.456, 0.406], [0.229, 0.224, 0.225]\n",
        "        ),  # Normalize the image with mean and standard deviation.\n",
        "    ]\n",
        ")"
      ]
    },
    {
      "cell_type": "code",
      "execution_count": 5,
      "metadata": {
        "colab": {
          "base_uri": "https://localhost:8080/"
        },
        "id": "xbkWVGksgs8g",
        "outputId": "3fcc0a6a-9e20-478f-a482-2c1fba9ed9c5"
      },
      "outputs": [
        {
          "name": "stdout",
          "output_type": "stream",
          "text": [
            "Files already downloaded and verified\n",
            "Files already downloaded and verified\n"
          ]
        }
      ],
      "source": [
        "# Load the training data\n",
        "train_data = datasets.CIFAR10(\"data\", train=True, download=True, transform=transform)\n",
        "\n",
        "# Load the test data\n",
        "test_data = datasets.CIFAR10(\"data\", train=False, download=True, transform=transform)"
      ]
    },
    {
      "cell_type": "code",
      "execution_count": 6,
      "metadata": {
        "id": "dzyFsWNRx-8O"
      },
      "outputs": [],
      "source": [
        "# Split the training data into training and validation subsets\n",
        "train_subset, val_subset = torch.utils.data.random_split(\n",
        "    train_data, [0.85, 0.15], generator=torch.Generator().manual_seed(1)\n",
        ")"
      ]
    },
    {
      "cell_type": "code",
      "execution_count": 7,
      "metadata": {
        "id": "wOX_jipjiGYc"
      },
      "outputs": [],
      "source": [
        "class ResNet34:\n",
        "    def __init__(self):\n",
        "        # Load the ResNet34 model with default weights\n",
        "        self.resnet34 = resnet34(weights=ResNet34_Weights.DEFAULT)\n",
        "        modules = list(self.resnet34.children())[:-1]\n",
        "\n",
        "        # Create a new model with all the layers except the last one\n",
        "        self.resnet34 = torch.nn.Sequential(*modules)\n",
        "\n",
        "        self.resnet34.eval()  # Set the model to evaluation mode\n",
        "\n",
        "        self.resnet34 = self.resnet34.to(device)\n",
        "\n",
        "    def __repr__(self):\n",
        "        return \"ResNet34\"\n",
        "\n",
        "    def get_features(self, images):\n",
        "        with torch.no_grad():\n",
        "            # Get the features from the features extractor model\n",
        "            features = self.resnet34(images)\n",
        "        return features\n",
        "\n",
        "    def get_size(self):\n",
        "        with torch.no_grad():\n",
        "            features = torch.flatten(\n",
        "                self.resnet34(torch.zeros(1, 3, 224, 224).to(device)), start_dim=1\n",
        "            )\n",
        "        # Return the size of the features\n",
        "        return features.shape"
      ]
    },
    {
      "cell_type": "code",
      "execution_count": 8,
      "metadata": {
        "id": "7F8TGJ5wihtJ"
      },
      "outputs": [],
      "source": [
        "class ResNet18:\n",
        "    def __init__(self):\n",
        "        # Load the ResNet18 model with default weights\n",
        "        self.resnet18 = resnet18(weights=ResNet18_Weights.DEFAULT)\n",
        "        modules = list(self.resnet18.children())[:-1]\n",
        "\n",
        "        # Create a new model with all the layers except the last one\n",
        "        self.resnet18 = torch.nn.Sequential(*modules)\n",
        "\n",
        "        self.resnet18.eval()  # Set the model to evaluation mode\n",
        "\n",
        "        self.resnet18 = self.resnet18.to(device)\n",
        "\n",
        "    def __repr__(self):\n",
        "        return \"ResNet18\"\n",
        "\n",
        "    def get_features(self, images):\n",
        "        with torch.no_grad():\n",
        "            # Get the features from the features extractor model\n",
        "            features = self.resnet18(images)\n",
        "        return features\n",
        "\n",
        "    def get_size(self):\n",
        "        with torch.no_grad():\n",
        "            features = torch.flatten(\n",
        "                self.resnet18(torch.zeros(1, 3, 224, 224).to(device)), start_dim=1\n",
        "            )\n",
        "        # Return the size of the features\n",
        "        return features.shape"
      ]
    },
    {
      "cell_type": "code",
      "execution_count": 9,
      "metadata": {
        "id": "Srw960XqlfjB"
      },
      "outputs": [],
      "source": [
        "class VGG11:\n",
        "    def __init__(self):\n",
        "        # Load the VGG11 model with default weights\n",
        "        self.vgg11 = vgg11(weights=VGG11_Weights.DEFAULT)\n",
        "        modules = list(self.vgg11.children())[:-1]\n",
        "\n",
        "        # Create a new model with all the layers except the last one\n",
        "        self.vgg11 = torch.nn.Sequential(*modules)\n",
        "\n",
        "        self.vgg11.eval()  # Set the model to evaluation mode\n",
        "\n",
        "        self.vgg11 = self.vgg11.to(device)\n",
        "\n",
        "    def __repr__(self):\n",
        "        return \"VGG11\"\n",
        "\n",
        "    def get_features(self, images):\n",
        "        with torch.no_grad():\n",
        "            # Get the features from the features extractor model\n",
        "            features = self.vgg11(images)\n",
        "        return features\n",
        "\n",
        "    def get_size(self):\n",
        "        with torch.no_grad():\n",
        "            features = torch.flatten(\n",
        "                self.vgg11(torch.zeros(1, 3, 224, 224).to(device)), start_dim=1\n",
        "            )\n",
        "        # Return the size of the features\n",
        "        return features.shape"
      ]
    },
    {
      "cell_type": "code",
      "execution_count": 10,
      "metadata": {
        "colab": {
          "base_uri": "https://localhost:8080/"
        },
        "id": "7EeHOYkXTFJe",
        "outputId": "4c1ae387-078e-4a91-e331-6cbe921e30ae"
      },
      "outputs": [],
      "source": [
        "fe_resnet34 = ResNet34()"
      ]
    },
    {
      "attachments": {},
      "cell_type": "markdown",
      "metadata": {},
      "source": [
        "### SOM"
      ]
    },
    {
      "cell_type": "code",
      "execution_count": 11,
      "metadata": {},
      "outputs": [],
      "source": [
        "class SOM:\n",
        "    def __init__(self, epochs, learning_rate=0.1, map_mask=None, neighborhood_radius=1):\n",
        "        self.epochs = epochs\n",
        "        self.learning_rate = learning_rate\n",
        "        self.map_mask = map_mask\n",
        "        self.neighborhood_radius = neighborhood_radius\n",
        "\n",
        "    def initialize_weights(self):\n",
        "        # Initialize weights with random values where map mask is 1 and NaN where it is 0\n",
        "        self.weights = np.where(self.map_mask, np.random.random_sample(), np.nan)\n",
        "\n",
        "    def find_bmu(self, x):\n",
        "        bmu_idx = np.nanargmin(\n",
        "            np.linalg.norm(self.weights - x, axis=2)\n",
        "        )  # Find the index of the best matching unit (BMU) for input x\n",
        "        return np.unravel_index(\n",
        "            bmu_idx, self.weights.shape[:2]\n",
        "        )  # Return the BMU index as a tuple of two integers representing row and column indices in the weight matrix\n",
        "\n",
        "    def train(self, train_data):\n",
        "        self.initialize_weights()\n",
        "\n",
        "        for epoch in range(self.epochs):\n",
        "            with tqdm(train_data, unit=\"batch\") as tepoch:\n",
        "                tepoch.set_description(f\"Epoch {epoch + 1}\")\n",
        "                for data, label in tepoch:\n",
        "                    data = data.to(device)\n",
        "                    label = label.to(device)\n",
        "                    row = (\n",
        "                        torch.flatten(fe_resnet34.get_features(data), start_dim=1)\n",
        "                        .cpu()\n",
        "                        .numpy()\n",
        "                    )\n",
        "\n",
        "                    x_win, y_win = self.find_bmu(row)\n",
        "                    for x in range(self.weights.shape[0]):\n",
        "                        for y in range(self.weights.shape[1]):\n",
        "                            if (not np.isnan(np.sum(self.weights[x, y]))) and (\n",
        "                                self.manhattan_distance((x, y), (x_win, y_win))\n",
        "                                <= self.neighborhood_radius\n",
        "                            ):\n",
        "                                # Update the weight vector at (x,y)\n",
        "                                self.weights[x, y] += self.learning_rate * (\n",
        "                                    row.reshape(\n",
        "                                        -1,\n",
        "                                    )\n",
        "                                    - self.weights[x, y]\n",
        "                                )\n",
        "\n",
        "            coefficient = 1.0 - (np.float64(epoch) / self.epochs)\n",
        "            self.learning_rate *= coefficient\n",
        "\n",
        "        self.create_map(train_data)\n",
        "\n",
        "    def create_map(self, train_data):\n",
        "        self.map = np.empty(\n",
        "            shape=(self.weights.shape[0], self.weights.shape[1]), dtype=object\n",
        "        )\n",
        "        self.label_map = np.zeros(shape=self.map.shape, dtype=np.int64)\n",
        "\n",
        "        for row in range(self.weights.shape[0]):\n",
        "            for col in range(self.weights.shape[1]):\n",
        "                if not np.isnan(np.sum(self.weights[row, col])):\n",
        "                    self.map[row][col] = []  # empty list to store the label\n",
        "\n",
        "        for data, label in tqdm(train_data, desc=\"Creating labels map\"):\n",
        "            data = data.to(device)\n",
        "            label = label.to(device)\n",
        "            row = (\n",
        "                torch.flatten(fe_resnet34.get_features(data), start_dim=1).cpu().numpy()\n",
        "            )\n",
        "            x_win, y_win = self.find_bmu(row)\n",
        "            self.map[x_win][y_win].append(\n",
        "                label.item()\n",
        "            )  # Append the label to the list at (x_win,y_win)\n",
        "\n",
        "        for row in range(self.weights.shape[0]):\n",
        "            for col in range(self.weights.shape[1]):\n",
        "                if not np.isnan(np.sum(self.weights[row, col])):\n",
        "                    bincount = np.bincount(\n",
        "                        self.map[row][col]\n",
        "                    )  # Count the number of occurrences of each label in the list at (row,col)\n",
        "                    if bincount.size:\n",
        "                        self.label_map[row][col] = np.argmax(\n",
        "                            bincount\n",
        "                        )  # Set the label at (row,col) to be the most frequent label in the list at (row,col)\n",
        "                    else:\n",
        "                        self.label_map[row][\n",
        "                            col\n",
        "                        ] = 10  # Set the label at (row,col) to be a default value of 10 if there are no labels in the list at (row,col)\n",
        "\n",
        "    def print_map_report(self):\n",
        "        for row in range(self.weights.shape[0]):\n",
        "            for col in range(self.weights.shape[1]):\n",
        "                if not np.isnan(np.sum(self.weights[row, col])):\n",
        "                    bincount = np.bincount(self.map[row][col], minlength=10)\n",
        "                    print(\"Cluster: \", (row, col))\n",
        "                    print(\"Number of samples in cluster: \", np.sum(bincount))\n",
        "                    print(\"Number of samples per class: \", bincount)\n",
        "                    print(\"Most frequent class: \", np.argmax(bincount))\n",
        "                    print(\n",
        "                        f\"Frequency of class 0: {(bincount[0] / np.sum(bincount)) * 100:.2f}%\"\n",
        "                    )\n",
        "                    print(\n",
        "                        f\"Frequency of class 1: {(bincount[1] / np.sum(bincount)) * 100:.2f}%\"\n",
        "                    )\n",
        "                    print(\n",
        "                        f\"Frequency of class 2: {(bincount[2] / np.sum(bincount)) * 100:.2f}%\"\n",
        "                    )\n",
        "                    print(\n",
        "                        f\"Frequency of class 3: {(bincount[3] / np.sum(bincount)) * 100:.2f}%\"\n",
        "                    )\n",
        "                    print(\n",
        "                        f\"Frequency of class 4: {(bincount[4] / np.sum(bincount)) * 100:.2f}%\"\n",
        "                    )\n",
        "                    print(\n",
        "                        f\"Frequency of class 5: {(bincount[5] / np.sum(bincount)) * 100:.2f}%\"\n",
        "                    )\n",
        "                    print(\n",
        "                        f\"Frequency of class 6: {(bincount[6] / np.sum(bincount)) * 100:.2f}%\"\n",
        "                    )\n",
        "                    print(\n",
        "                        f\"Frequency of class 7: {(bincount[7] / np.sum(bincount)) * 100:.2f}%\"\n",
        "                    )\n",
        "                    print(\n",
        "                        f\"Frequency of class 8: {(bincount[8] / np.sum(bincount)) * 100:.2f}%\"\n",
        "                    )\n",
        "                    print(\n",
        "                        f\"Frequency of class 9: {(bincount[9] / np.sum(bincount)) * 100:.2f}%\"\n",
        "                    )\n",
        "                    print(\n",
        "                        \"------------------------------------------------------------------\"\n",
        "                    )\n",
        "\n",
        "    def evaluate(self, test_data):\n",
        "        predictions, true = [], []\n",
        "\n",
        "        for data, label in tqdm(test_data, desc=\"Evaluating\"):\n",
        "            data = data.to(device)\n",
        "            label = label.to(device)\n",
        "            row = (\n",
        "                torch.flatten(fe_resnet34.get_features(data), start_dim=1).cpu().numpy()\n",
        "            )\n",
        "\n",
        "            x_win, y_win = self.find_bmu(row)\n",
        "            predictions.append(self.label_map[x_win][y_win])\n",
        "            true.append(label.item())\n",
        "\n",
        "        return (\n",
        "            accuracy_score(true, predictions),\n",
        "            f1_score(true, predictions, average=\"weighted\"),\n",
        "        )\n",
        "\n",
        "    def plot_label_map(self):\n",
        "        plt.imshow(self.label_map)\n",
        "        plt.colorbar()\n",
        "        plt.grid(visible=False)\n",
        "        plt.show()\n",
        "\n",
        "    def plot_som(self):\n",
        "        self.u_matrix = np.zeros(\n",
        "            shape=(self.weights.shape[0], self.weights.shape[1]), dtype=np.float64\n",
        "        )\n",
        "\n",
        "        for row in range(self.weights.shape[0]):\n",
        "            for col in range(self.weights.shape[1]):\n",
        "                if not np.isnan(np.sum(self.weights[row, col])):\n",
        "                    v = self.weights[row][col]\n",
        "                    sum_dist, ct = 0.0, 0\n",
        "                    if row - 1 >= 0:\n",
        "                        if not np.isnan(np.sum(self.weights[row - 1, col])):\n",
        "                            sum_dist += self.euclidean_distance(\n",
        "                                v, self.weights[row - 1][col]\n",
        "                            )\n",
        "                            ct += 1\n",
        "                    if row + 1 < self.weights.shape[0]:\n",
        "                        if not np.isnan(np.sum(self.weights[row + 1, col])):\n",
        "                            sum_dist += self.euclidean_distance(\n",
        "                                v, self.weights[row + 1][col]\n",
        "                            )\n",
        "                            ct += 1\n",
        "                    if col - 1 >= 0:\n",
        "                        if not np.isnan(np.sum(self.weights[row, col - 1])):\n",
        "                            sum_dist += self.euclidean_distance(\n",
        "                                v, self.weights[row][col - 1]\n",
        "                            )\n",
        "                            ct += 1\n",
        "                    if col + 1 < self.weights.shape[1]:\n",
        "                        if not np.isnan(np.sum(self.weights[row, col + 1])):\n",
        "                            sum_dist += self.euclidean_distance(\n",
        "                                v, self.weights[row][col + 1]\n",
        "                            )\n",
        "                            ct += 1\n",
        "                    self.u_matrix[row][col] = sum_dist / ct\n",
        "\n",
        "        plt.imshow(self.u_matrix, cmap=\"gray\")\n",
        "        plt.grid(visible=False)\n",
        "        plt.show()\n",
        "\n",
        "    @staticmethod\n",
        "    def euclidean_distance(x, y):\n",
        "        return distance.euclidean(x, y)\n",
        "\n",
        "    @staticmethod\n",
        "    def manhattan_distance(x, y):\n",
        "        return distance.cityblock(x, y)"
      ]
    },
    {
      "attachments": {},
      "cell_type": "markdown",
      "metadata": {},
      "source": [
        "#### Part 1"
      ]
    },
    {
      "cell_type": "code",
      "execution_count": 11,
      "metadata": {},
      "outputs": [
        {
          "data": {
            "application/vnd.jupyter.widget-view+json": {
              "model_id": "e8d47288926a4fbeb3b31d58b7896c9c",
              "version_major": 2,
              "version_minor": 0
            },
            "text/plain": [
              "  0%|          | 0/50000 [00:00<?, ?batch/s]"
            ]
          },
          "metadata": {},
          "output_type": "display_data"
        },
        {
          "data": {
            "application/vnd.jupyter.widget-view+json": {
              "model_id": "766d8c09101f423ca23d870f9145884b",
              "version_major": 2,
              "version_minor": 0
            },
            "text/plain": [
              "  0%|          | 0/50000 [00:00<?, ?batch/s]"
            ]
          },
          "metadata": {},
          "output_type": "display_data"
        },
        {
          "data": {
            "application/vnd.jupyter.widget-view+json": {
              "model_id": "8f8ec1405a364a0fb9b423a377a7f7cb",
              "version_major": 2,
              "version_minor": 0
            },
            "text/plain": [
              "  0%|          | 0/50000 [00:00<?, ?batch/s]"
            ]
          },
          "metadata": {},
          "output_type": "display_data"
        },
        {
          "data": {
            "application/vnd.jupyter.widget-view+json": {
              "model_id": "3680a7367c8747aba5e42aad89da6df5",
              "version_major": 2,
              "version_minor": 0
            },
            "text/plain": [
              "  0%|          | 0/50000 [00:00<?, ?batch/s]"
            ]
          },
          "metadata": {},
          "output_type": "display_data"
        },
        {
          "data": {
            "application/vnd.jupyter.widget-view+json": {
              "model_id": "84d2c69eb9cc41eeb5e88171cf05390d",
              "version_major": 2,
              "version_minor": 0
            },
            "text/plain": [
              "  0%|          | 0/50000 [00:00<?, ?batch/s]"
            ]
          },
          "metadata": {},
          "output_type": "display_data"
        },
        {
          "data": {
            "application/vnd.jupyter.widget-view+json": {
              "model_id": "8cf58d9d30434ac782e670060012b531",
              "version_major": 2,
              "version_minor": 0
            },
            "text/plain": [
              "  0%|          | 0/50000 [00:00<?, ?batch/s]"
            ]
          },
          "metadata": {},
          "output_type": "display_data"
        },
        {
          "data": {
            "application/vnd.jupyter.widget-view+json": {
              "model_id": "c700ca794f2a4b03a4c9efb77b7af955",
              "version_major": 2,
              "version_minor": 0
            },
            "text/plain": [
              "  0%|          | 0/50000 [00:00<?, ?batch/s]"
            ]
          },
          "metadata": {},
          "output_type": "display_data"
        },
        {
          "data": {
            "application/vnd.jupyter.widget-view+json": {
              "model_id": "5253e7a59cbd4e15bc25b77611a95795",
              "version_major": 2,
              "version_minor": 0
            },
            "text/plain": [
              "  0%|          | 0/50000 [00:00<?, ?batch/s]"
            ]
          },
          "metadata": {},
          "output_type": "display_data"
        },
        {
          "data": {
            "application/vnd.jupyter.widget-view+json": {
              "model_id": "ab9ec6317dd94fb79eb00b26f18be30e",
              "version_major": 2,
              "version_minor": 0
            },
            "text/plain": [
              "  0%|          | 0/50000 [00:00<?, ?batch/s]"
            ]
          },
          "metadata": {},
          "output_type": "display_data"
        },
        {
          "data": {
            "application/vnd.jupyter.widget-view+json": {
              "model_id": "b0a73056095245cfa448c578ce5bbfb7",
              "version_major": 2,
              "version_minor": 0
            },
            "text/plain": [
              "  0%|          | 0/50000 [00:00<?, ?batch/s]"
            ]
          },
          "metadata": {},
          "output_type": "display_data"
        },
        {
          "data": {
            "application/vnd.jupyter.widget-view+json": {
              "model_id": "cf5d1dce35324cb99dad31ac3258cb3c",
              "version_major": 2,
              "version_minor": 0
            },
            "text/plain": [
              "  0%|          | 0/50000 [00:00<?, ?batch/s]"
            ]
          },
          "metadata": {},
          "output_type": "display_data"
        },
        {
          "data": {
            "application/vnd.jupyter.widget-view+json": {
              "model_id": "94a5932905b644e7af4bfe1de8185a75",
              "version_major": 2,
              "version_minor": 0
            },
            "text/plain": [
              "  0%|          | 0/50000 [00:00<?, ?batch/s]"
            ]
          },
          "metadata": {},
          "output_type": "display_data"
        },
        {
          "data": {
            "application/vnd.jupyter.widget-view+json": {
              "model_id": "7fbe49416eed4e3895bb642d35e594d6",
              "version_major": 2,
              "version_minor": 0
            },
            "text/plain": [
              "  0%|          | 0/50000 [00:00<?, ?batch/s]"
            ]
          },
          "metadata": {},
          "output_type": "display_data"
        },
        {
          "data": {
            "application/vnd.jupyter.widget-view+json": {
              "model_id": "f92e6d68b04243d682ea1580a799712e",
              "version_major": 2,
              "version_minor": 0
            },
            "text/plain": [
              "  0%|          | 0/50000 [00:00<?, ?batch/s]"
            ]
          },
          "metadata": {},
          "output_type": "display_data"
        },
        {
          "data": {
            "application/vnd.jupyter.widget-view+json": {
              "model_id": "e9ce40a060e049658fa9197c4df382f5",
              "version_major": 2,
              "version_minor": 0
            },
            "text/plain": [
              "  0%|          | 0/50000 [00:00<?, ?batch/s]"
            ]
          },
          "metadata": {},
          "output_type": "display_data"
        },
        {
          "data": {
            "application/vnd.jupyter.widget-view+json": {
              "model_id": "3a8a5b4950ce479bb9110792a9714e25",
              "version_major": 2,
              "version_minor": 0
            },
            "text/plain": [
              "  0%|          | 0/50000 [00:00<?, ?batch/s]"
            ]
          },
          "metadata": {},
          "output_type": "display_data"
        },
        {
          "data": {
            "application/vnd.jupyter.widget-view+json": {
              "model_id": "aaff0c7df9884aca839b8bd8522376d0",
              "version_major": 2,
              "version_minor": 0
            },
            "text/plain": [
              "  0%|          | 0/50000 [00:00<?, ?batch/s]"
            ]
          },
          "metadata": {},
          "output_type": "display_data"
        },
        {
          "data": {
            "application/vnd.jupyter.widget-view+json": {
              "model_id": "67d9a146106b4aea9ab8fb9d33dfeb84",
              "version_major": 2,
              "version_minor": 0
            },
            "text/plain": [
              "  0%|          | 0/50000 [00:00<?, ?batch/s]"
            ]
          },
          "metadata": {},
          "output_type": "display_data"
        },
        {
          "data": {
            "application/vnd.jupyter.widget-view+json": {
              "model_id": "aa0f0a56dc094bd5ae983901dca07754",
              "version_major": 2,
              "version_minor": 0
            },
            "text/plain": [
              "  0%|          | 0/50000 [00:00<?, ?batch/s]"
            ]
          },
          "metadata": {},
          "output_type": "display_data"
        },
        {
          "data": {
            "application/vnd.jupyter.widget-view+json": {
              "model_id": "5a8d3c4bd1704ac58468cdadc406e6be",
              "version_major": 2,
              "version_minor": 0
            },
            "text/plain": [
              "  0%|          | 0/50000 [00:00<?, ?batch/s]"
            ]
          },
          "metadata": {},
          "output_type": "display_data"
        },
        {
          "data": {
            "application/vnd.jupyter.widget-view+json": {
              "model_id": "68dcc35c9aae405d909fbc4095620781",
              "version_major": 2,
              "version_minor": 0
            },
            "text/plain": [
              "Creating labels map:   0%|          | 0/50000 [00:00<?, ?it/s]"
            ]
          },
          "metadata": {},
          "output_type": "display_data"
        }
      ],
      "source": [
        "mask = np.ones((1, 10, 512))\n",
        "nr = 1\n",
        "\n",
        "train_loader = torch.utils.data.DataLoader(\n",
        "    dataset=train_data, shuffle=True, batch_size=1\n",
        ")\n",
        "test_loader = torch.utils.data.DataLoader(\n",
        "    dataset=test_data, shuffle=False, batch_size=1\n",
        ")\n",
        "\n",
        "\n",
        "som_p1 = SOM(epochs=20, learning_rate=0.1, map_mask=mask, neighborhood_radius=nr)\n",
        "som_p1.train(train_loader)"
      ]
    },
    {
      "cell_type": "code",
      "execution_count": 12,
      "metadata": {},
      "outputs": [
        {
          "data": {
            "image/png": "[encoded data removed]",
            "text/plain": [
              "<Figure size 640x480 with 1 Axes>"
            ]
          },
          "metadata": {},
          "output_type": "display_data"
        }
      ],
      "source": [
        "som_p1.plot_som()"
      ]
    },
    {
      "cell_type": "code",
      "execution_count": 13,
      "metadata": {},
      "outputs": [
        {
          "data": {
            "image/png": "[encoded data removed]",
            "text/plain": [
              "<Figure size 640x480 with 2 Axes>"
            ]
          },
          "metadata": {},
          "output_type": "display_data"
        }
      ],
      "source": [
        "som_p1.plot_label_map()"
      ]
    },
    {
      "cell_type": "code",
      "execution_count": 14,
      "metadata": {},
      "outputs": [
        {
          "name": "stdout",
          "output_type": "stream",
          "text": [
            "Cluster:  (0, 0)\n",
            "Number of samples in cluster:  8321\n",
            "Number of samples per class:  [  30 4293    1   18    0    2    2    3   26 3946]\n",
            "Most frequent class:  1\n",
            "Frequency of class 0: 0.36%\n",
            "Frequency of class 1: 51.59%\n",
            "Frequency of class 2: 0.01%\n",
            "Frequency of class 3: 0.22%\n",
            "Frequency of class 4: 0.00%\n",
            "Frequency of class 5: 0.02%\n",
            "Frequency of class 6: 0.02%\n",
            "Frequency of class 7: 0.04%\n",
            "Frequency of class 8: 0.31%\n",
            "Frequency of class 9: 47.42%\n",
            "------------------------------------------------------------------\n",
            "Cluster:  (0, 1)\n",
            "Number of samples in cluster:  3021\n",
            "Number of samples per class:  [460 619  13  33   7  12   8  78 920 871]\n",
            "Most frequent class:  8\n",
            "Frequency of class 0: 15.23%\n",
            "Frequency of class 1: 20.49%\n",
            "Frequency of class 2: 0.43%\n",
            "Frequency of class 3: 1.09%\n",
            "Frequency of class 4: 0.23%\n",
            "Frequency of class 5: 0.40%\n",
            "Frequency of class 6: 0.26%\n",
            "Frequency of class 7: 2.58%\n",
            "Frequency of class 8: 30.45%\n",
            "Frequency of class 9: 28.83%\n",
            "------------------------------------------------------------------\n",
            "Cluster:  (0, 2)\n",
            "Number of samples in cluster:  5703\n",
            "Number of samples per class:  [2094   30   30    2   16    2    6   41 3410   72]\n",
            "Most frequent class:  8\n",
            "Frequency of class 0: 36.72%\n",
            "Frequency of class 1: 0.53%\n",
            "Frequency of class 2: 0.53%\n",
            "Frequency of class 3: 0.04%\n",
            "Frequency of class 4: 0.28%\n",
            "Frequency of class 5: 0.04%\n",
            "Frequency of class 6: 0.11%\n",
            "Frequency of class 7: 0.72%\n",
            "Frequency of class 8: 59.79%\n",
            "Frequency of class 9: 1.26%\n",
            "------------------------------------------------------------------\n",
            "Cluster:  (0, 3)\n",
            "Number of samples in cluster:  3959\n",
            "Number of samples per class:  [2169    7  831   58  111   17  124   90  523   29]\n",
            "Most frequent class:  0\n",
            "Frequency of class 0: 54.79%\n",
            "Frequency of class 1: 0.18%\n",
            "Frequency of class 2: 20.99%\n",
            "Frequency of class 3: 1.47%\n",
            "Frequency of class 4: 2.80%\n",
            "Frequency of class 5: 0.43%\n",
            "Frequency of class 6: 3.13%\n",
            "Frequency of class 7: 2.27%\n",
            "Frequency of class 8: 13.21%\n",
            "Frequency of class 9: 0.73%\n",
            "------------------------------------------------------------------\n",
            "Cluster:  (0, 4)\n",
            "Number of samples in cluster:  3608\n",
            "Number of samples per class:  [ 123   14 1082  945  147  545  240  427   60   25]\n",
            "Most frequent class:  2\n",
            "Frequency of class 0: 3.41%\n",
            "Frequency of class 1: 0.39%\n",
            "Frequency of class 2: 29.99%\n",
            "Frequency of class 3: 26.19%\n",
            "Frequency of class 4: 4.07%\n",
            "Frequency of class 5: 15.11%\n",
            "Frequency of class 6: 6.65%\n",
            "Frequency of class 7: 11.83%\n",
            "Frequency of class 8: 1.66%\n",
            "Frequency of class 9: 0.69%\n",
            "------------------------------------------------------------------\n",
            "Cluster:  (0, 5)\n",
            "Number of samples in cluster:  6649\n",
            "Number of samples per class:  [   1   11  187 2508  102 3342  150  332    7    9]\n",
            "Most frequent class:  5\n",
            "Frequency of class 0: 0.02%\n",
            "Frequency of class 1: 0.17%\n",
            "Frequency of class 2: 2.81%\n",
            "Frequency of class 3: 37.72%\n",
            "Frequency of class 4: 1.53%\n",
            "Frequency of class 5: 50.26%\n",
            "Frequency of class 6: 2.26%\n",
            "Frequency of class 7: 4.99%\n",
            "Frequency of class 8: 0.11%\n",
            "Frequency of class 9: 0.14%\n",
            "------------------------------------------------------------------\n",
            "Cluster:  (0, 6)\n",
            "Number of samples in cluster:  3346\n",
            "Number of samples per class:  [  23   18  273 1081  211  612  974  113   28   13]\n",
            "Most frequent class:  3\n",
            "Frequency of class 0: 0.69%\n",
            "Frequency of class 1: 0.54%\n",
            "Frequency of class 2: 8.16%\n",
            "Frequency of class 3: 32.31%\n",
            "Frequency of class 4: 6.31%\n",
            "Frequency of class 5: 18.29%\n",
            "Frequency of class 6: 29.11%\n",
            "Frequency of class 7: 3.38%\n",
            "Frequency of class 8: 0.84%\n",
            "Frequency of class 9: 0.39%\n",
            "------------------------------------------------------------------\n",
            "Cluster:  (0, 7)\n",
            "Number of samples in cluster:  5956\n",
            "Number of samples per class:  [  57    6 1313  218  830   69 3378   48   23   14]\n",
            "Most frequent class:  6\n",
            "Frequency of class 0: 0.96%\n",
            "Frequency of class 1: 0.10%\n",
            "Frequency of class 2: 22.04%\n",
            "Frequency of class 3: 3.66%\n",
            "Frequency of class 4: 13.94%\n",
            "Frequency of class 5: 1.16%\n",
            "Frequency of class 6: 56.72%\n",
            "Frequency of class 7: 0.81%\n",
            "Frequency of class 8: 0.39%\n",
            "Frequency of class 9: 0.24%\n",
            "------------------------------------------------------------------\n",
            "Cluster:  (0, 8)\n",
            "Number of samples in cluster:  3119\n",
            "Number of samples per class:  [  27    2  796   95 1614  158  117  288    3   19]\n",
            "Most frequent class:  4\n",
            "Frequency of class 0: 0.87%\n",
            "Frequency of class 1: 0.06%\n",
            "Frequency of class 2: 25.52%\n",
            "Frequency of class 3: 3.05%\n",
            "Frequency of class 4: 51.75%\n",
            "Frequency of class 5: 5.07%\n",
            "Frequency of class 6: 3.75%\n",
            "Frequency of class 7: 9.23%\n",
            "Frequency of class 8: 0.10%\n",
            "Frequency of class 9: 0.61%\n",
            "------------------------------------------------------------------\n",
            "Cluster:  (0, 9)\n",
            "Number of samples in cluster:  6318\n",
            "Number of samples per class:  [  16    0  474   42 1962  241    1 3580    0    2]\n",
            "Most frequent class:  7\n",
            "Frequency of class 0: 0.25%\n",
            "Frequency of class 1: 0.00%\n",
            "Frequency of class 2: 7.50%\n",
            "Frequency of class 3: 0.66%\n",
            "Frequency of class 4: 31.05%\n",
            "Frequency of class 5: 3.81%\n",
            "Frequency of class 6: 0.02%\n",
            "Frequency of class 7: 56.66%\n",
            "Frequency of class 8: 0.00%\n",
            "Frequency of class 9: 0.03%\n",
            "------------------------------------------------------------------\n"
          ]
        }
      ],
      "source": [
        "som_p1.print_map_report()"
      ]
    },
    {
      "cell_type": "code",
      "execution_count": 15,
      "metadata": {},
      "outputs": [
        {
          "data": {
            "application/vnd.jupyter.widget-view+json": {
              "model_id": "9cdab23b2ab64cfd838b8e4c9a5a1d4c",
              "version_major": 2,
              "version_minor": 0
            },
            "text/plain": [
              "Evaluating:   0%|          | 0/10000 [00:00<?, ?it/s]"
            ]
          },
          "metadata": {},
          "output_type": "display_data"
        },
        {
          "name": "stdout",
          "output_type": "stream",
          "text": [
            "(0.4923, 0.4443738790181751)\n"
          ]
        }
      ],
      "source": [
        "print(som_p1.evaluate(test_loader))"
      ]
    },
    {
      "attachments": {},
      "cell_type": "markdown",
      "metadata": {},
      "source": [
        "#### Part 2"
      ]
    },
    {
      "cell_type": "code",
      "execution_count": 12,
      "metadata": {},
      "outputs": [
        {
          "data": {
            "application/vnd.jupyter.widget-view+json": {
              "model_id": "5559b371ab9a439587bccef1b101ec19",
              "version_major": 2,
              "version_minor": 0
            },
            "text/plain": [
              "  0%|          | 0/50000 [00:00<?, ?batch/s]"
            ]
          },
          "metadata": {},
          "output_type": "display_data"
        },
        {
          "data": {
            "application/vnd.jupyter.widget-view+json": {
              "model_id": "f0f05ead4b25415b81268aade5958b8d",
              "version_major": 2,
              "version_minor": 0
            },
            "text/plain": [
              "Creating labels map:   0%|          | 0/50000 [00:00<?, ?it/s]"
            ]
          },
          "metadata": {},
          "output_type": "display_data"
        }
      ],
      "source": [
        "mask = np.ones((1, 10, 512))\n",
        "nr = 3\n",
        "\n",
        "train_loader = torch.utils.data.DataLoader(\n",
        "    dataset=train_data, shuffle=True, batch_size=1\n",
        ")\n",
        "test_loader = torch.utils.data.DataLoader(\n",
        "    dataset=test_data, shuffle=False, batch_size=1\n",
        ")\n",
        "\n",
        "\n",
        "som_p2 = SOM(epochs=1, learning_rate=0.1, map_mask=mask, neighborhood_radius=nr)\n",
        "som_p2.train(train_loader)"
      ]
    },
    {
      "cell_type": "code",
      "execution_count": 13,
      "metadata": {},
      "outputs": [
        {
          "data": {
            "image/png": "[encoded data removed]",
            "text/plain": [
              "<Figure size 640x480 with 1 Axes>"
            ]
          },
          "metadata": {},
          "output_type": "display_data"
        }
      ],
      "source": [
        "som_p2.plot_som()"
      ]
    },
    {
      "cell_type": "code",
      "execution_count": 14,
      "metadata": {},
      "outputs": [
        {
          "data": {
            "image/png": "[encoded data removed]",
            "text/plain": [
              "<Figure size 640x480 with 2 Axes>"
            ]
          },
          "metadata": {},
          "output_type": "display_data"
        }
      ],
      "source": [
        "som_p2.plot_label_map()"
      ]
    },
    {
      "cell_type": "code",
      "execution_count": 15,
      "metadata": {},
      "outputs": [
        {
          "name": "stdout",
          "output_type": "stream",
          "text": [
            "Cluster:  (0, 0)\n",
            "Number of samples in cluster:  11740\n",
            "Number of samples per class:  [1097 4391   19   17    3    5    5   53 1731 4419]\n",
            "Most frequent class:  9\n",
            "Frequency of class 0: 9.34%\n",
            "Frequency of class 1: 37.40%\n",
            "Frequency of class 2: 0.16%\n",
            "Frequency of class 3: 0.14%\n",
            "Frequency of class 4: 0.03%\n",
            "Frequency of class 5: 0.04%\n",
            "Frequency of class 6: 0.04%\n",
            "Frequency of class 7: 0.45%\n",
            "Frequency of class 8: 14.74%\n",
            "Frequency of class 9: 37.64%\n",
            "------------------------------------------------------------------\n",
            "Cluster:  (0, 1)\n",
            "Number of samples in cluster:  5232\n",
            "Number of samples per class:  [2048  210   55   31   23    8   52  100 2469  236]\n",
            "Most frequent class:  8\n",
            "Frequency of class 0: 39.14%\n",
            "Frequency of class 1: 4.01%\n",
            "Frequency of class 2: 1.05%\n",
            "Frequency of class 3: 0.59%\n",
            "Frequency of class 4: 0.44%\n",
            "Frequency of class 5: 0.15%\n",
            "Frequency of class 6: 0.99%\n",
            "Frequency of class 7: 1.91%\n",
            "Frequency of class 8: 47.19%\n",
            "Frequency of class 9: 4.51%\n",
            "------------------------------------------------------------------\n",
            "Cluster:  (0, 2)\n",
            "Number of samples in cluster:  1152\n",
            "Number of samples per class:  [268 296  61  28   3  16  25  48 238 169]\n",
            "Most frequent class:  1\n",
            "Frequency of class 0: 23.26%\n",
            "Frequency of class 1: 25.69%\n",
            "Frequency of class 2: 5.30%\n",
            "Frequency of class 3: 2.43%\n",
            "Frequency of class 4: 0.26%\n",
            "Frequency of class 5: 1.39%\n",
            "Frequency of class 6: 2.17%\n",
            "Frequency of class 7: 4.17%\n",
            "Frequency of class 8: 20.66%\n",
            "Frequency of class 9: 14.67%\n",
            "------------------------------------------------------------------\n",
            "Cluster:  (0, 3)\n",
            "Number of samples in cluster:  1103\n",
            "Number of samples per class:  [226  50 106 235   5  89  58  65 163 106]\n",
            "Most frequent class:  3\n",
            "Frequency of class 0: 20.49%\n",
            "Frequency of class 1: 4.53%\n",
            "Frequency of class 2: 9.61%\n",
            "Frequency of class 3: 21.31%\n",
            "Frequency of class 4: 0.45%\n",
            "Frequency of class 5: 8.07%\n",
            "Frequency of class 6: 5.26%\n",
            "Frequency of class 7: 5.89%\n",
            "Frequency of class 8: 14.78%\n",
            "Frequency of class 9: 9.61%\n",
            "------------------------------------------------------------------\n",
            "Cluster:  (0, 4)\n",
            "Number of samples in cluster:  3819\n",
            "Number of samples per class:  [1221   26  960  367  196  133  293  225  367   31]\n",
            "Most frequent class:  0\n",
            "Frequency of class 0: 31.97%\n",
            "Frequency of class 1: 0.68%\n",
            "Frequency of class 2: 25.14%\n",
            "Frequency of class 3: 9.61%\n",
            "Frequency of class 4: 5.13%\n",
            "Frequency of class 5: 3.48%\n",
            "Frequency of class 6: 7.67%\n",
            "Frequency of class 7: 5.89%\n",
            "Frequency of class 8: 9.61%\n",
            "Frequency of class 9: 0.81%\n",
            "------------------------------------------------------------------\n",
            "Cluster:  (0, 5)\n",
            "Number of samples in cluster:  10492\n",
            "Number of samples per class:  [  39   18 1123 3093  295 3508 2087  291   25   13]\n",
            "Most frequent class:  5\n",
            "Frequency of class 0: 0.37%\n",
            "Frequency of class 1: 0.17%\n",
            "Frequency of class 2: 10.70%\n",
            "Frequency of class 3: 29.48%\n",
            "Frequency of class 4: 2.81%\n",
            "Frequency of class 5: 33.43%\n",
            "Frequency of class 6: 19.89%\n",
            "Frequency of class 7: 2.77%\n",
            "Frequency of class 8: 0.24%\n",
            "Frequency of class 9: 0.12%\n",
            "------------------------------------------------------------------\n",
            "Cluster:  (0, 6)\n",
            "Number of samples in cluster:  1669\n",
            "Number of samples per class:  [ 17   4 133 305 211 259  17 703   0  20]\n",
            "Most frequent class:  7\n",
            "Frequency of class 0: 1.02%\n",
            "Frequency of class 1: 0.24%\n",
            "Frequency of class 2: 7.97%\n",
            "Frequency of class 3: 18.27%\n",
            "Frequency of class 4: 12.64%\n",
            "Frequency of class 5: 15.52%\n",
            "Frequency of class 6: 1.02%\n",
            "Frequency of class 7: 42.12%\n",
            "Frequency of class 8: 0.00%\n",
            "Frequency of class 9: 1.20%\n",
            "------------------------------------------------------------------\n",
            "Cluster:  (0, 7)\n",
            "Number of samples in cluster:  2141\n",
            "Number of samples per class:  [ 55   2 725 196 361 116 627  54   3   2]\n",
            "Most frequent class:  2\n",
            "Frequency of class 0: 2.57%\n",
            "Frequency of class 1: 0.09%\n",
            "Frequency of class 2: 33.86%\n",
            "Frequency of class 3: 9.15%\n",
            "Frequency of class 4: 16.86%\n",
            "Frequency of class 5: 5.42%\n",
            "Frequency of class 6: 29.29%\n",
            "Frequency of class 7: 2.52%\n",
            "Frequency of class 8: 0.14%\n",
            "Frequency of class 9: 0.09%\n",
            "------------------------------------------------------------------\n",
            "Cluster:  (0, 8)\n",
            "Number of samples in cluster:  1965\n",
            "Number of samples per class:  [  5   2 495 406 171 445 263 176   2   0]\n",
            "Most frequent class:  2\n",
            "Frequency of class 0: 0.25%\n",
            "Frequency of class 1: 0.10%\n",
            "Frequency of class 2: 25.19%\n",
            "Frequency of class 3: 20.66%\n",
            "Frequency of class 4: 8.70%\n",
            "Frequency of class 5: 22.65%\n",
            "Frequency of class 6: 13.38%\n",
            "Frequency of class 7: 8.96%\n",
            "Frequency of class 8: 0.10%\n",
            "Frequency of class 9: 0.00%\n",
            "------------------------------------------------------------------\n",
            "Cluster:  (0, 9)\n",
            "Number of samples in cluster:  10687\n",
            "Number of samples per class:  [  24    1 1323  322 3732  421 1573 3285    2    4]\n",
            "Most frequent class:  4\n",
            "Frequency of class 0: 0.22%\n",
            "Frequency of class 1: 0.01%\n",
            "Frequency of class 2: 12.38%\n",
            "Frequency of class 3: 3.01%\n",
            "Frequency of class 4: 34.92%\n",
            "Frequency of class 5: 3.94%\n",
            "Frequency of class 6: 14.72%\n",
            "Frequency of class 7: 30.74%\n",
            "Frequency of class 8: 0.02%\n",
            "Frequency of class 9: 0.04%\n",
            "------------------------------------------------------------------\n"
          ]
        }
      ],
      "source": [
        "som_p2.print_map_report()"
      ]
    },
    {
      "cell_type": "code",
      "execution_count": 16,
      "metadata": {},
      "outputs": [
        {
          "data": {
            "application/vnd.jupyter.widget-view+json": {
              "model_id": "ed90ae8270b4485b8bfd032f2df0a192",
              "version_major": 2,
              "version_minor": 0
            },
            "text/plain": [
              "Evaluating:   0%|          | 0/10000 [00:00<?, ?it/s]"
            ]
          },
          "metadata": {},
          "output_type": "display_data"
        },
        {
          "name": "stdout",
          "output_type": "stream",
          "text": [
            "(0.3629, 0.29313485909666753)\n"
          ]
        }
      ],
      "source": [
        "print(som_p2.evaluate(test_loader))"
      ]
    }
  ],
  "metadata": {
    "accelerator": "GPU",
    "colab": {
      "gpuType": "T4",
      "provenance": []
    },
    "gpuClass": "standard",
    "kernelspec": {
      "display_name": "venv",
      "language": "python",
      "name": "python3"
    },
    "language_info": {
      "codemirror_mode": {
        "name": "ipython",
        "version": 3
      },
      "file_extension": ".py",
      "mimetype": "text/x-python",
      "name": "python",
      "nbconvert_exporter": "python",
      "pygments_lexer": "ipython3",
      "version": "3.10.4"
    },
    "widgets": {
      "application/vnd.jupyter.widget-state+json": {
        "00ac0194863f4d1781c50dd2898b7d13": {
          "model_module": "@jupyter-widgets/controls",
          "model_module_version": "1.5.0",
          "model_name": "DescriptionStyleModel",
          "state": {
            "_model_module": "@jupyter-widgets/controls",
            "_model_module_version": "1.5.0",
            "_model_name": "DescriptionStyleModel",
            "_view_count": null,
            "_view_module": "@jupyter-widgets/base",
            "_view_module_version": "1.2.0",
            "_view_name": "StyleView",
            "description_width": ""
          }
        },
        "0aac425c8f404a68babbcd59324702fb": {
          "model_module": "@jupyter-widgets/controls",
          "model_module_version": "1.5.0",
          "model_name": "ProgressStyleModel",
          "state": {
            "_model_module": "@jupyter-widgets/controls",
            "_model_module_version": "1.5.0",
            "_model_name": "ProgressStyleModel",
            "_view_count": null,
            "_view_module": "@jupyter-widgets/base",
            "_view_module_version": "1.2.0",
            "_view_name": "StyleView",
            "bar_color": null,
            "description_width": ""
          }
        },
        "0bf0008440444ca3ba97475d3cebce48": {
          "model_module": "@jupyter-widgets/controls",
          "model_module_version": "1.5.0",
          "model_name": "HTMLModel",
          "state": {
            "_dom_classes": [],
            "_model_module": "@jupyter-widgets/controls",
            "_model_module_version": "1.5.0",
            "_model_name": "HTMLModel",
            "_view_count": null,
            "_view_module": "@jupyter-widgets/controls",
            "_view_module_version": "1.5.0",
            "_view_name": "HTMLView",
            "description": "",
            "description_tooltip": null,
            "layout": "IPY_MODEL_a4f9f599104a429aa65b49b68d7842ad",
            "placeholder": "​",
            "style": "IPY_MODEL_cdf00e1739a949d7adaa31589ef0e0b2",
            "value": " 50000/50000 [05:59&lt;00:00, 144.70batch/s]"
          }
        },
        "10256a3e5ba74b08aaedc9efc927c0f3": {
          "model_module": "@jupyter-widgets/controls",
          "model_module_version": "1.5.0",
          "model_name": "FloatProgressModel",
          "state": {
            "_dom_classes": [],
            "_model_module": "@jupyter-widgets/controls",
            "_model_module_version": "1.5.0",
            "_model_name": "FloatProgressModel",
            "_view_count": null,
            "_view_module": "@jupyter-widgets/controls",
            "_view_module_version": "1.5.0",
            "_view_name": "ProgressView",
            "bar_style": "success",
            "description": "",
            "description_tooltip": null,
            "layout": "IPY_MODEL_c7d2ea87b4cb48dea7d9316997bfc498",
            "max": 50000,
            "min": 0,
            "orientation": "horizontal",
            "style": "IPY_MODEL_c7a229fddf414f4ca634bed92d8ef72d",
            "value": 50000
          }
        },
        "1208aa11fb504c6bb0884c746ea58e08": {
          "model_module": "@jupyter-widgets/controls",
          "model_module_version": "1.5.0",
          "model_name": "FloatProgressModel",
          "state": {
            "_dom_classes": [],
            "_model_module": "@jupyter-widgets/controls",
            "_model_module_version": "1.5.0",
            "_model_name": "FloatProgressModel",
            "_view_count": null,
            "_view_module": "@jupyter-widgets/controls",
            "_view_module_version": "1.5.0",
            "_view_name": "ProgressView",
            "bar_style": "success",
            "description": "",
            "description_tooltip": null,
            "layout": "IPY_MODEL_a76f6c6afa15456da9f38fe615ee515b",
            "max": 50000,
            "min": 0,
            "orientation": "horizontal",
            "style": "IPY_MODEL_0aac425c8f404a68babbcd59324702fb",
            "value": 50000
          }
        },
        "1942d62fb54846fe8f6755c5c939729e": {
          "model_module": "@jupyter-widgets/controls",
          "model_module_version": "1.5.0",
          "model_name": "HTMLModel",
          "state": {
            "_dom_classes": [],
            "_model_module": "@jupyter-widgets/controls",
            "_model_module_version": "1.5.0",
            "_model_name": "HTMLModel",
            "_view_count": null,
            "_view_module": "@jupyter-widgets/controls",
            "_view_module_version": "1.5.0",
            "_view_name": "HTMLView",
            "description": "",
            "description_tooltip": null,
            "layout": "IPY_MODEL_b05ca81471794e0a9a4d64ededc71744",
            "placeholder": "​",
            "style": "IPY_MODEL_e04fa11a078344fcab8c44a13c4605a5",
            "value": "Epoch 1: 100%"
          }
        },
        "1c77b106a88b48aeac4ae45b0e08dc0c": {
          "model_module": "@jupyter-widgets/controls",
          "model_module_version": "1.5.0",
          "model_name": "FloatProgressModel",
          "state": {
            "_dom_classes": [],
            "_model_module": "@jupyter-widgets/controls",
            "_model_module_version": "1.5.0",
            "_model_name": "FloatProgressModel",
            "_view_count": null,
            "_view_module": "@jupyter-widgets/controls",
            "_view_module_version": "1.5.0",
            "_view_name": "ProgressView",
            "bar_style": "success",
            "description": "",
            "description_tooltip": null,
            "layout": "IPY_MODEL_20855707a51840d3b9330e6d8b282614",
            "max": 50000,
            "min": 0,
            "orientation": "horizontal",
            "style": "IPY_MODEL_c8ce41190d1f499ebbc49ce8a2761208",
            "value": 50000
          }
        },
        "20855707a51840d3b9330e6d8b282614": {
          "model_module": "@jupyter-widgets/base",
          "model_module_version": "1.2.0",
          "model_name": "LayoutModel",
          "state": {
            "_model_module": "@jupyter-widgets/base",
            "_model_module_version": "1.2.0",
            "_model_name": "LayoutModel",
            "_view_count": null,
            "_view_module": "@jupyter-widgets/base",
            "_view_module_version": "1.2.0",
            "_view_name": "LayoutView",
            "align_content": null,
            "align_items": null,
            "align_self": null,
            "border": null,
            "bottom": null,
            "display": null,
            "flex": null,
            "flex_flow": null,
            "grid_area": null,
            "grid_auto_columns": null,
            "grid_auto_flow": null,
            "grid_auto_rows": null,
            "grid_column": null,
            "grid_gap": null,
            "grid_row": null,
            "grid_template_areas": null,
            "grid_template_columns": null,
            "grid_template_rows": null,
            "height": null,
            "justify_content": null,
            "justify_items": null,
            "left": null,
            "margin": null,
            "max_height": null,
            "max_width": null,
            "min_height": null,
            "min_width": null,
            "object_fit": null,
            "object_position": null,
            "order": null,
            "overflow": null,
            "overflow_x": null,
            "overflow_y": null,
            "padding": null,
            "right": null,
            "top": null,
            "visibility": null,
            "width": null
          }
        },
        "21d1473dd53b4897a9de80d4d68f659f": {
          "model_module": "@jupyter-widgets/controls",
          "model_module_version": "1.5.0",
          "model_name": "DescriptionStyleModel",
          "state": {
            "_model_module": "@jupyter-widgets/controls",
            "_model_module_version": "1.5.0",
            "_model_name": "DescriptionStyleModel",
            "_view_count": null,
            "_view_module": "@jupyter-widgets/base",
            "_view_module_version": "1.2.0",
            "_view_name": "StyleView",
            "description_width": ""
          }
        },
        "3161b0b2b20a457aadcc311ec9bc91b1": {
          "model_module": "@jupyter-widgets/controls",
          "model_module_version": "1.5.0",
          "model_name": "HBoxModel",
          "state": {
            "_dom_classes": [],
            "_model_module": "@jupyter-widgets/controls",
            "_model_module_version": "1.5.0",
            "_model_name": "HBoxModel",
            "_view_count": null,
            "_view_module": "@jupyter-widgets/controls",
            "_view_module_version": "1.5.0",
            "_view_name": "HBoxView",
            "box_style": "",
            "children": [
              "IPY_MODEL_3442286550634d688f00c685a8bb3f7a",
              "IPY_MODEL_1c77b106a88b48aeac4ae45b0e08dc0c",
              "IPY_MODEL_0bf0008440444ca3ba97475d3cebce48"
            ],
            "layout": "IPY_MODEL_86b8f69cdb3040b6a26b99cf18f1c65a"
          }
        },
        "320461eb097240b8a8e72ef40974fd3f": {
          "model_module": "@jupyter-widgets/controls",
          "model_module_version": "1.5.0",
          "model_name": "DescriptionStyleModel",
          "state": {
            "_model_module": "@jupyter-widgets/controls",
            "_model_module_version": "1.5.0",
            "_model_name": "DescriptionStyleModel",
            "_view_count": null,
            "_view_module": "@jupyter-widgets/base",
            "_view_module_version": "1.2.0",
            "_view_name": "StyleView",
            "description_width": ""
          }
        },
        "3442286550634d688f00c685a8bb3f7a": {
          "model_module": "@jupyter-widgets/controls",
          "model_module_version": "1.5.0",
          "model_name": "HTMLModel",
          "state": {
            "_dom_classes": [],
            "_model_module": "@jupyter-widgets/controls",
            "_model_module_version": "1.5.0",
            "_model_name": "HTMLModel",
            "_view_count": null,
            "_view_module": "@jupyter-widgets/controls",
            "_view_module_version": "1.5.0",
            "_view_name": "HTMLView",
            "description": "",
            "description_tooltip": null,
            "layout": "IPY_MODEL_44ad4fed0c9c4ec1b4ded131cffddc05",
            "placeholder": "​",
            "style": "IPY_MODEL_56d5b534040c4d068bbc07a29dcba4d1",
            "value": "Epoch 1: 100%"
          }
        },
        "38ce44e1ca914aed81d09fc183486a6c": {
          "model_module": "@jupyter-widgets/base",
          "model_module_version": "1.2.0",
          "model_name": "LayoutModel",
          "state": {
            "_model_module": "@jupyter-widgets/base",
            "_model_module_version": "1.2.0",
            "_model_name": "LayoutModel",
            "_view_count": null,
            "_view_module": "@jupyter-widgets/base",
            "_view_module_version": "1.2.0",
            "_view_name": "LayoutView",
            "align_content": null,
            "align_items": null,
            "align_self": null,
            "border": null,
            "bottom": null,
            "display": null,
            "flex": null,
            "flex_flow": null,
            "grid_area": null,
            "grid_auto_columns": null,
            "grid_auto_flow": null,
            "grid_auto_rows": null,
            "grid_column": null,
            "grid_gap": null,
            "grid_row": null,
            "grid_template_areas": null,
            "grid_template_columns": null,
            "grid_template_rows": null,
            "height": null,
            "justify_content": null,
            "justify_items": null,
            "left": null,
            "margin": null,
            "max_height": null,
            "max_width": null,
            "min_height": null,
            "min_width": null,
            "object_fit": null,
            "object_position": null,
            "order": null,
            "overflow": null,
            "overflow_x": null,
            "overflow_y": null,
            "padding": null,
            "right": null,
            "top": null,
            "visibility": null,
            "width": null
          }
        },
        "3de7bbda56c24697b456363d0a30b5cc": {
          "model_module": "@jupyter-widgets/controls",
          "model_module_version": "1.5.0",
          "model_name": "HTMLModel",
          "state": {
            "_dom_classes": [],
            "_model_module": "@jupyter-widgets/controls",
            "_model_module_version": "1.5.0",
            "_model_name": "HTMLModel",
            "_view_count": null,
            "_view_module": "@jupyter-widgets/controls",
            "_view_module_version": "1.5.0",
            "_view_name": "HTMLView",
            "description": "",
            "description_tooltip": null,
            "layout": "IPY_MODEL_527b32aee2684e4abd2e7625f8863f70",
            "placeholder": "​",
            "style": "IPY_MODEL_43d23350db164ff48b82515450d2590d",
            "value": " 50000/50000 [06:02&lt;00:00, 113.73it/s]"
          }
        },
        "3e2c03892b6d487d8d7695f22cbbfa91": {
          "model_module": "@jupyter-widgets/controls",
          "model_module_version": "1.5.0",
          "model_name": "ProgressStyleModel",
          "state": {
            "_model_module": "@jupyter-widgets/controls",
            "_model_module_version": "1.5.0",
            "_model_name": "ProgressStyleModel",
            "_view_count": null,
            "_view_module": "@jupyter-widgets/base",
            "_view_module_version": "1.2.0",
            "_view_name": "StyleView",
            "bar_color": null,
            "description_width": ""
          }
        },
        "3ee2881129c341c3be6ddbe7d4711439": {
          "model_module": "@jupyter-widgets/controls",
          "model_module_version": "1.5.0",
          "model_name": "FloatProgressModel",
          "state": {
            "_dom_classes": [],
            "_model_module": "@jupyter-widgets/controls",
            "_model_module_version": "1.5.0",
            "_model_name": "FloatProgressModel",
            "_view_count": null,
            "_view_module": "@jupyter-widgets/controls",
            "_view_module_version": "1.5.0",
            "_view_name": "ProgressView",
            "bar_style": "success",
            "description": "",
            "description_tooltip": null,
            "layout": "IPY_MODEL_7bea16daa6134a11883580b74e182dc3",
            "max": 50000,
            "min": 0,
            "orientation": "horizontal",
            "style": "IPY_MODEL_3e2c03892b6d487d8d7695f22cbbfa91",
            "value": 50000
          }
        },
        "40b1d0713b1f4e41b02aa1c2b3b96596": {
          "model_module": "@jupyter-widgets/base",
          "model_module_version": "1.2.0",
          "model_name": "LayoutModel",
          "state": {
            "_model_module": "@jupyter-widgets/base",
            "_model_module_version": "1.2.0",
            "_model_name": "LayoutModel",
            "_view_count": null,
            "_view_module": "@jupyter-widgets/base",
            "_view_module_version": "1.2.0",
            "_view_name": "LayoutView",
            "align_content": null,
            "align_items": null,
            "align_self": null,
            "border": null,
            "bottom": null,
            "display": null,
            "flex": null,
            "flex_flow": null,
            "grid_area": null,
            "grid_auto_columns": null,
            "grid_auto_flow": null,
            "grid_auto_rows": null,
            "grid_column": null,
            "grid_gap": null,
            "grid_row": null,
            "grid_template_areas": null,
            "grid_template_columns": null,
            "grid_template_rows": null,
            "height": null,
            "justify_content": null,
            "justify_items": null,
            "left": null,
            "margin": null,
            "max_height": null,
            "max_width": null,
            "min_height": null,
            "min_width": null,
            "object_fit": null,
            "object_position": null,
            "order": null,
            "overflow": null,
            "overflow_x": null,
            "overflow_y": null,
            "padding": null,
            "right": null,
            "top": null,
            "visibility": null,
            "width": null
          }
        },
        "425c2e305de0470fbe3bcda27db515eb": {
          "model_module": "@jupyter-widgets/base",
          "model_module_version": "1.2.0",
          "model_name": "LayoutModel",
          "state": {
            "_model_module": "@jupyter-widgets/base",
            "_model_module_version": "1.2.0",
            "_model_name": "LayoutModel",
            "_view_count": null,
            "_view_module": "@jupyter-widgets/base",
            "_view_module_version": "1.2.0",
            "_view_name": "LayoutView",
            "align_content": null,
            "align_items": null,
            "align_self": null,
            "border": null,
            "bottom": null,
            "display": null,
            "flex": null,
            "flex_flow": null,
            "grid_area": null,
            "grid_auto_columns": null,
            "grid_auto_flow": null,
            "grid_auto_rows": null,
            "grid_column": null,
            "grid_gap": null,
            "grid_row": null,
            "grid_template_areas": null,
            "grid_template_columns": null,
            "grid_template_rows": null,
            "height": null,
            "justify_content": null,
            "justify_items": null,
            "left": null,
            "margin": null,
            "max_height": null,
            "max_width": null,
            "min_height": null,
            "min_width": null,
            "object_fit": null,
            "object_position": null,
            "order": null,
            "overflow": null,
            "overflow_x": null,
            "overflow_y": null,
            "padding": null,
            "right": null,
            "top": null,
            "visibility": null,
            "width": null
          }
        },
        "43d23350db164ff48b82515450d2590d": {
          "model_module": "@jupyter-widgets/controls",
          "model_module_version": "1.5.0",
          "model_name": "DescriptionStyleModel",
          "state": {
            "_model_module": "@jupyter-widgets/controls",
            "_model_module_version": "1.5.0",
            "_model_name": "DescriptionStyleModel",
            "_view_count": null,
            "_view_module": "@jupyter-widgets/base",
            "_view_module_version": "1.2.0",
            "_view_name": "StyleView",
            "description_width": ""
          }
        },
        "44ad4fed0c9c4ec1b4ded131cffddc05": {
          "model_module": "@jupyter-widgets/base",
          "model_module_version": "1.2.0",
          "model_name": "LayoutModel",
          "state": {
            "_model_module": "@jupyter-widgets/base",
            "_model_module_version": "1.2.0",
            "_model_name": "LayoutModel",
            "_view_count": null,
            "_view_module": "@jupyter-widgets/base",
            "_view_module_version": "1.2.0",
            "_view_name": "LayoutView",
            "align_content": null,
            "align_items": null,
            "align_self": null,
            "border": null,
            "bottom": null,
            "display": null,
            "flex": null,
            "flex_flow": null,
            "grid_area": null,
            "grid_auto_columns": null,
            "grid_auto_flow": null,
            "grid_auto_rows": null,
            "grid_column": null,
            "grid_gap": null,
            "grid_row": null,
            "grid_template_areas": null,
            "grid_template_columns": null,
            "grid_template_rows": null,
            "height": null,
            "justify_content": null,
            "justify_items": null,
            "left": null,
            "margin": null,
            "max_height": null,
            "max_width": null,
            "min_height": null,
            "min_width": null,
            "object_fit": null,
            "object_position": null,
            "order": null,
            "overflow": null,
            "overflow_x": null,
            "overflow_y": null,
            "padding": null,
            "right": null,
            "top": null,
            "visibility": null,
            "width": null
          }
        },
        "44fc9107dbe245de865be572b3399998": {
          "model_module": "@jupyter-widgets/base",
          "model_module_version": "1.2.0",
          "model_name": "LayoutModel",
          "state": {
            "_model_module": "@jupyter-widgets/base",
            "_model_module_version": "1.2.0",
            "_model_name": "LayoutModel",
            "_view_count": null,
            "_view_module": "@jupyter-widgets/base",
            "_view_module_version": "1.2.0",
            "_view_name": "LayoutView",
            "align_content": null,
            "align_items": null,
            "align_self": null,
            "border": null,
            "bottom": null,
            "display": null,
            "flex": null,
            "flex_flow": null,
            "grid_area": null,
            "grid_auto_columns": null,
            "grid_auto_flow": null,
            "grid_auto_rows": null,
            "grid_column": null,
            "grid_gap": null,
            "grid_row": null,
            "grid_template_areas": null,
            "grid_template_columns": null,
            "grid_template_rows": null,
            "height": null,
            "justify_content": null,
            "justify_items": null,
            "left": null,
            "margin": null,
            "max_height": null,
            "max_width": null,
            "min_height": null,
            "min_width": null,
            "object_fit": null,
            "object_position": null,
            "order": null,
            "overflow": null,
            "overflow_x": null,
            "overflow_y": null,
            "padding": null,
            "right": null,
            "top": null,
            "visibility": null,
            "width": null
          }
        },
        "46d560f0469b422e9b050785e72e9af2": {
          "model_module": "@jupyter-widgets/base",
          "model_module_version": "1.2.0",
          "model_name": "LayoutModel",
          "state": {
            "_model_module": "@jupyter-widgets/base",
            "_model_module_version": "1.2.0",
            "_model_name": "LayoutModel",
            "_view_count": null,
            "_view_module": "@jupyter-widgets/base",
            "_view_module_version": "1.2.0",
            "_view_name": "LayoutView",
            "align_content": null,
            "align_items": null,
            "align_self": null,
            "border": null,
            "bottom": null,
            "display": null,
            "flex": null,
            "flex_flow": null,
            "grid_area": null,
            "grid_auto_columns": null,
            "grid_auto_flow": null,
            "grid_auto_rows": null,
            "grid_column": null,
            "grid_gap": null,
            "grid_row": null,
            "grid_template_areas": null,
            "grid_template_columns": null,
            "grid_template_rows": null,
            "height": null,
            "justify_content": null,
            "justify_items": null,
            "left": null,
            "margin": null,
            "max_height": null,
            "max_width": null,
            "min_height": null,
            "min_width": null,
            "object_fit": null,
            "object_position": null,
            "order": null,
            "overflow": null,
            "overflow_x": null,
            "overflow_y": null,
            "padding": null,
            "right": null,
            "top": null,
            "visibility": null,
            "width": null
          }
        },
        "48260968b45e4232b8bc3a8a8695e121": {
          "model_module": "@jupyter-widgets/base",
          "model_module_version": "1.2.0",
          "model_name": "LayoutModel",
          "state": {
            "_model_module": "@jupyter-widgets/base",
            "_model_module_version": "1.2.0",
            "_model_name": "LayoutModel",
            "_view_count": null,
            "_view_module": "@jupyter-widgets/base",
            "_view_module_version": "1.2.0",
            "_view_name": "LayoutView",
            "align_content": null,
            "align_items": null,
            "align_self": null,
            "border": null,
            "bottom": null,
            "display": null,
            "flex": null,
            "flex_flow": null,
            "grid_area": null,
            "grid_auto_columns": null,
            "grid_auto_flow": null,
            "grid_auto_rows": null,
            "grid_column": null,
            "grid_gap": null,
            "grid_row": null,
            "grid_template_areas": null,
            "grid_template_columns": null,
            "grid_template_rows": null,
            "height": null,
            "justify_content": null,
            "justify_items": null,
            "left": null,
            "margin": null,
            "max_height": null,
            "max_width": null,
            "min_height": null,
            "min_width": null,
            "object_fit": null,
            "object_position": null,
            "order": null,
            "overflow": null,
            "overflow_x": null,
            "overflow_y": null,
            "padding": null,
            "right": null,
            "top": null,
            "visibility": null,
            "width": null
          }
        },
        "4a8f35fe720d4aaa8c1b8f7e4d6158c1": {
          "model_module": "@jupyter-widgets/base",
          "model_module_version": "1.2.0",
          "model_name": "LayoutModel",
          "state": {
            "_model_module": "@jupyter-widgets/base",
            "_model_module_version": "1.2.0",
            "_model_name": "LayoutModel",
            "_view_count": null,
            "_view_module": "@jupyter-widgets/base",
            "_view_module_version": "1.2.0",
            "_view_name": "LayoutView",
            "align_content": null,
            "align_items": null,
            "align_self": null,
            "border": null,
            "bottom": null,
            "display": null,
            "flex": null,
            "flex_flow": null,
            "grid_area": null,
            "grid_auto_columns": null,
            "grid_auto_flow": null,
            "grid_auto_rows": null,
            "grid_column": null,
            "grid_gap": null,
            "grid_row": null,
            "grid_template_areas": null,
            "grid_template_columns": null,
            "grid_template_rows": null,
            "height": null,
            "justify_content": null,
            "justify_items": null,
            "left": null,
            "margin": null,
            "max_height": null,
            "max_width": null,
            "min_height": null,
            "min_width": null,
            "object_fit": null,
            "object_position": null,
            "order": null,
            "overflow": null,
            "overflow_x": null,
            "overflow_y": null,
            "padding": null,
            "right": null,
            "top": null,
            "visibility": null,
            "width": null
          }
        },
        "527b32aee2684e4abd2e7625f8863f70": {
          "model_module": "@jupyter-widgets/base",
          "model_module_version": "1.2.0",
          "model_name": "LayoutModel",
          "state": {
            "_model_module": "@jupyter-widgets/base",
            "_model_module_version": "1.2.0",
            "_model_name": "LayoutModel",
            "_view_count": null,
            "_view_module": "@jupyter-widgets/base",
            "_view_module_version": "1.2.0",
            "_view_name": "LayoutView",
            "align_content": null,
            "align_items": null,
            "align_self": null,
            "border": null,
            "bottom": null,
            "display": null,
            "flex": null,
            "flex_flow": null,
            "grid_area": null,
            "grid_auto_columns": null,
            "grid_auto_flow": null,
            "grid_auto_rows": null,
            "grid_column": null,
            "grid_gap": null,
            "grid_row": null,
            "grid_template_areas": null,
            "grid_template_columns": null,
            "grid_template_rows": null,
            "height": null,
            "justify_content": null,
            "justify_items": null,
            "left": null,
            "margin": null,
            "max_height": null,
            "max_width": null,
            "min_height": null,
            "min_width": null,
            "object_fit": null,
            "object_position": null,
            "order": null,
            "overflow": null,
            "overflow_x": null,
            "overflow_y": null,
            "padding": null,
            "right": null,
            "top": null,
            "visibility": null,
            "width": null
          }
        },
        "5335787fa860456a82e5129aef5786d4": {
          "model_module": "@jupyter-widgets/controls",
          "model_module_version": "1.5.0",
          "model_name": "HTMLModel",
          "state": {
            "_dom_classes": [],
            "_model_module": "@jupyter-widgets/controls",
            "_model_module_version": "1.5.0",
            "_model_name": "HTMLModel",
            "_view_count": null,
            "_view_module": "@jupyter-widgets/controls",
            "_view_module_version": "1.5.0",
            "_view_name": "HTMLView",
            "description": "",
            "description_tooltip": null,
            "layout": "IPY_MODEL_f613b1e3f3b8480c932de8a30643049e",
            "placeholder": "​",
            "style": "IPY_MODEL_00ac0194863f4d1781c50dd2898b7d13",
            "value": " 50000/50000 [06:06&lt;00:00, 98.79batch/s]"
          }
        },
        "5595d3a9c31d48c3b0e3cf61b817a731": {
          "model_module": "@jupyter-widgets/controls",
          "model_module_version": "1.5.0",
          "model_name": "DescriptionStyleModel",
          "state": {
            "_model_module": "@jupyter-widgets/controls",
            "_model_module_version": "1.5.0",
            "_model_name": "DescriptionStyleModel",
            "_view_count": null,
            "_view_module": "@jupyter-widgets/base",
            "_view_module_version": "1.2.0",
            "_view_name": "StyleView",
            "description_width": ""
          }
        },
        "56d5b534040c4d068bbc07a29dcba4d1": {
          "model_module": "@jupyter-widgets/controls",
          "model_module_version": "1.5.0",
          "model_name": "DescriptionStyleModel",
          "state": {
            "_model_module": "@jupyter-widgets/controls",
            "_model_module_version": "1.5.0",
            "_model_name": "DescriptionStyleModel",
            "_view_count": null,
            "_view_module": "@jupyter-widgets/base",
            "_view_module_version": "1.2.0",
            "_view_name": "StyleView",
            "description_width": ""
          }
        },
        "5d8dda2fce2f47b39c06fcc935b7646b": {
          "model_module": "@jupyter-widgets/controls",
          "model_module_version": "1.5.0",
          "model_name": "HTMLModel",
          "state": {
            "_dom_classes": [],
            "_model_module": "@jupyter-widgets/controls",
            "_model_module_version": "1.5.0",
            "_model_name": "HTMLModel",
            "_view_count": null,
            "_view_module": "@jupyter-widgets/controls",
            "_view_module_version": "1.5.0",
            "_view_name": "HTMLView",
            "description": "",
            "description_tooltip": null,
            "layout": "IPY_MODEL_44fc9107dbe245de865be572b3399998",
            "placeholder": "​",
            "style": "IPY_MODEL_a40c410697364af58a57bf3ea2dfa318",
            "value": "Creating labels map: 100%"
          }
        },
        "628b69c55f654479bab8eb6ed1c5ac16": {
          "model_module": "@jupyter-widgets/controls",
          "model_module_version": "1.5.0",
          "model_name": "DescriptionStyleModel",
          "state": {
            "_model_module": "@jupyter-widgets/controls",
            "_model_module_version": "1.5.0",
            "_model_name": "DescriptionStyleModel",
            "_view_count": null,
            "_view_module": "@jupyter-widgets/base",
            "_view_module_version": "1.2.0",
            "_view_name": "StyleView",
            "description_width": ""
          }
        },
        "68c6d6b083eb4d09abf13dc238ccbb4d": {
          "model_module": "@jupyter-widgets/base",
          "model_module_version": "1.2.0",
          "model_name": "LayoutModel",
          "state": {
            "_model_module": "@jupyter-widgets/base",
            "_model_module_version": "1.2.0",
            "_model_name": "LayoutModel",
            "_view_count": null,
            "_view_module": "@jupyter-widgets/base",
            "_view_module_version": "1.2.0",
            "_view_name": "LayoutView",
            "align_content": null,
            "align_items": null,
            "align_self": null,
            "border": null,
            "bottom": null,
            "display": null,
            "flex": null,
            "flex_flow": null,
            "grid_area": null,
            "grid_auto_columns": null,
            "grid_auto_flow": null,
            "grid_auto_rows": null,
            "grid_column": null,
            "grid_gap": null,
            "grid_row": null,
            "grid_template_areas": null,
            "grid_template_columns": null,
            "grid_template_rows": null,
            "height": null,
            "justify_content": null,
            "justify_items": null,
            "left": null,
            "margin": null,
            "max_height": null,
            "max_width": null,
            "min_height": null,
            "min_width": null,
            "object_fit": null,
            "object_position": null,
            "order": null,
            "overflow": null,
            "overflow_x": null,
            "overflow_y": null,
            "padding": null,
            "right": null,
            "top": null,
            "visibility": null,
            "width": null
          }
        },
        "6d97d52a7b3e4cf2908b10a8cf64ba6f": {
          "model_module": "@jupyter-widgets/controls",
          "model_module_version": "1.5.0",
          "model_name": "HBoxModel",
          "state": {
            "_dom_classes": [],
            "_model_module": "@jupyter-widgets/controls",
            "_model_module_version": "1.5.0",
            "_model_name": "HBoxModel",
            "_view_count": null,
            "_view_module": "@jupyter-widgets/controls",
            "_view_module_version": "1.5.0",
            "_view_name": "HBoxView",
            "box_style": "",
            "children": [
              "IPY_MODEL_1942d62fb54846fe8f6755c5c939729e",
              "IPY_MODEL_10256a3e5ba74b08aaedc9efc927c0f3",
              "IPY_MODEL_5335787fa860456a82e5129aef5786d4"
            ],
            "layout": "IPY_MODEL_4a8f35fe720d4aaa8c1b8f7e4d6158c1"
          }
        },
        "709041f766fb4e89b1cc523ef3aebef9": {
          "model_module": "@jupyter-widgets/controls",
          "model_module_version": "1.5.0",
          "model_name": "ProgressStyleModel",
          "state": {
            "_model_module": "@jupyter-widgets/controls",
            "_model_module_version": "1.5.0",
            "_model_name": "ProgressStyleModel",
            "_view_count": null,
            "_view_module": "@jupyter-widgets/base",
            "_view_module_version": "1.2.0",
            "_view_name": "StyleView",
            "bar_color": null,
            "description_width": ""
          }
        },
        "723ad3b81592437ab1e44bfd45fe8bf4": {
          "model_module": "@jupyter-widgets/base",
          "model_module_version": "1.2.0",
          "model_name": "LayoutModel",
          "state": {
            "_model_module": "@jupyter-widgets/base",
            "_model_module_version": "1.2.0",
            "_model_name": "LayoutModel",
            "_view_count": null,
            "_view_module": "@jupyter-widgets/base",
            "_view_module_version": "1.2.0",
            "_view_name": "LayoutView",
            "align_content": null,
            "align_items": null,
            "align_self": null,
            "border": null,
            "bottom": null,
            "display": null,
            "flex": null,
            "flex_flow": null,
            "grid_area": null,
            "grid_auto_columns": null,
            "grid_auto_flow": null,
            "grid_auto_rows": null,
            "grid_column": null,
            "grid_gap": null,
            "grid_row": null,
            "grid_template_areas": null,
            "grid_template_columns": null,
            "grid_template_rows": null,
            "height": null,
            "justify_content": null,
            "justify_items": null,
            "left": null,
            "margin": null,
            "max_height": null,
            "max_width": null,
            "min_height": null,
            "min_width": null,
            "object_fit": null,
            "object_position": null,
            "order": null,
            "overflow": null,
            "overflow_x": null,
            "overflow_y": null,
            "padding": null,
            "right": null,
            "top": null,
            "visibility": null,
            "width": null
          }
        },
        "77949da79964465f88758a9869000f18": {
          "model_module": "@jupyter-widgets/controls",
          "model_module_version": "1.5.0",
          "model_name": "HBoxModel",
          "state": {
            "_dom_classes": [],
            "_model_module": "@jupyter-widgets/controls",
            "_model_module_version": "1.5.0",
            "_model_name": "HBoxModel",
            "_view_count": null,
            "_view_module": "@jupyter-widgets/controls",
            "_view_module_version": "1.5.0",
            "_view_name": "HBoxView",
            "box_style": "",
            "children": [
              "IPY_MODEL_aec665fa56884970a3c0412c161e971e",
              "IPY_MODEL_796e90c082dc4ecf9bdd84a98885c68b",
              "IPY_MODEL_bd03e2f2ffe849ba992d0012f53daa2f"
            ],
            "layout": "IPY_MODEL_425c2e305de0470fbe3bcda27db515eb"
          }
        },
        "7920f8e5a8864d1bb50ab1fb9470208a": {
          "model_module": "@jupyter-widgets/controls",
          "model_module_version": "1.5.0",
          "model_name": "HTMLModel",
          "state": {
            "_dom_classes": [],
            "_model_module": "@jupyter-widgets/controls",
            "_model_module_version": "1.5.0",
            "_model_name": "HTMLModel",
            "_view_count": null,
            "_view_module": "@jupyter-widgets/controls",
            "_view_module_version": "1.5.0",
            "_view_name": "HTMLView",
            "description": "",
            "description_tooltip": null,
            "layout": "IPY_MODEL_ba6f24d64bb8457cba6e50cb0ff17136",
            "placeholder": "​",
            "style": "IPY_MODEL_320461eb097240b8a8e72ef40974fd3f",
            "value": " 50000/50000 [05:50&lt;00:00, 151.01it/s]"
          }
        },
        "796e90c082dc4ecf9bdd84a98885c68b": {
          "model_module": "@jupyter-widgets/controls",
          "model_module_version": "1.5.0",
          "model_name": "FloatProgressModel",
          "state": {
            "_dom_classes": [],
            "_model_module": "@jupyter-widgets/controls",
            "_model_module_version": "1.5.0",
            "_model_name": "FloatProgressModel",
            "_view_count": null,
            "_view_module": "@jupyter-widgets/controls",
            "_view_module_version": "1.5.0",
            "_view_name": "ProgressView",
            "bar_style": "success",
            "description": "",
            "description_tooltip": null,
            "layout": "IPY_MODEL_48260968b45e4232b8bc3a8a8695e121",
            "max": 50000,
            "min": 0,
            "orientation": "horizontal",
            "style": "IPY_MODEL_709041f766fb4e89b1cc523ef3aebef9",
            "value": 50000
          }
        },
        "7bea16daa6134a11883580b74e182dc3": {
          "model_module": "@jupyter-widgets/base",
          "model_module_version": "1.2.0",
          "model_name": "LayoutModel",
          "state": {
            "_model_module": "@jupyter-widgets/base",
            "_model_module_version": "1.2.0",
            "_model_name": "LayoutModel",
            "_view_count": null,
            "_view_module": "@jupyter-widgets/base",
            "_view_module_version": "1.2.0",
            "_view_name": "LayoutView",
            "align_content": null,
            "align_items": null,
            "align_self": null,
            "border": null,
            "bottom": null,
            "display": null,
            "flex": null,
            "flex_flow": null,
            "grid_area": null,
            "grid_auto_columns": null,
            "grid_auto_flow": null,
            "grid_auto_rows": null,
            "grid_column": null,
            "grid_gap": null,
            "grid_row": null,
            "grid_template_areas": null,
            "grid_template_columns": null,
            "grid_template_rows": null,
            "height": null,
            "justify_content": null,
            "justify_items": null,
            "left": null,
            "margin": null,
            "max_height": null,
            "max_width": null,
            "min_height": null,
            "min_width": null,
            "object_fit": null,
            "object_position": null,
            "order": null,
            "overflow": null,
            "overflow_x": null,
            "overflow_y": null,
            "padding": null,
            "right": null,
            "top": null,
            "visibility": null,
            "width": null
          }
        },
        "82b9987f6616483eb503a0b07e91bd0a": {
          "model_module": "@jupyter-widgets/controls",
          "model_module_version": "1.5.0",
          "model_name": "DescriptionStyleModel",
          "state": {
            "_model_module": "@jupyter-widgets/controls",
            "_model_module_version": "1.5.0",
            "_model_name": "DescriptionStyleModel",
            "_view_count": null,
            "_view_module": "@jupyter-widgets/base",
            "_view_module_version": "1.2.0",
            "_view_name": "StyleView",
            "description_width": ""
          }
        },
        "83ebfd7a10cf45e3b9130b29b7b9458f": {
          "model_module": "@jupyter-widgets/controls",
          "model_module_version": "1.5.0",
          "model_name": "HBoxModel",
          "state": {
            "_dom_classes": [],
            "_model_module": "@jupyter-widgets/controls",
            "_model_module_version": "1.5.0",
            "_model_name": "HBoxModel",
            "_view_count": null,
            "_view_module": "@jupyter-widgets/controls",
            "_view_module_version": "1.5.0",
            "_view_name": "HBoxView",
            "box_style": "",
            "children": [
              "IPY_MODEL_d167dd8cc180480392e9b92eeda214db",
              "IPY_MODEL_853866ec61fa46dbbd4c05f914b6c3ca",
              "IPY_MODEL_f6edeb530625491e9f2e483c0f5eb023"
            ],
            "layout": "IPY_MODEL_40b1d0713b1f4e41b02aa1c2b3b96596"
          }
        },
        "853866ec61fa46dbbd4c05f914b6c3ca": {
          "model_module": "@jupyter-widgets/controls",
          "model_module_version": "1.5.0",
          "model_name": "FloatProgressModel",
          "state": {
            "_dom_classes": [],
            "_model_module": "@jupyter-widgets/controls",
            "_model_module_version": "1.5.0",
            "_model_name": "FloatProgressModel",
            "_view_count": null,
            "_view_module": "@jupyter-widgets/controls",
            "_view_module_version": "1.5.0",
            "_view_name": "ProgressView",
            "bar_style": "success",
            "description": "",
            "description_tooltip": null,
            "layout": "IPY_MODEL_9432f059dbed43338511c9e70c6f307b",
            "max": 50000,
            "min": 0,
            "orientation": "horizontal",
            "style": "IPY_MODEL_e0aeab1886d847509d22b5c1f80e417f",
            "value": 50000
          }
        },
        "86b8f69cdb3040b6a26b99cf18f1c65a": {
          "model_module": "@jupyter-widgets/base",
          "model_module_version": "1.2.0",
          "model_name": "LayoutModel",
          "state": {
            "_model_module": "@jupyter-widgets/base",
            "_model_module_version": "1.2.0",
            "_model_name": "LayoutModel",
            "_view_count": null,
            "_view_module": "@jupyter-widgets/base",
            "_view_module_version": "1.2.0",
            "_view_name": "LayoutView",
            "align_content": null,
            "align_items": null,
            "align_self": null,
            "border": null,
            "bottom": null,
            "display": null,
            "flex": null,
            "flex_flow": null,
            "grid_area": null,
            "grid_auto_columns": null,
            "grid_auto_flow": null,
            "grid_auto_rows": null,
            "grid_column": null,
            "grid_gap": null,
            "grid_row": null,
            "grid_template_areas": null,
            "grid_template_columns": null,
            "grid_template_rows": null,
            "height": null,
            "justify_content": null,
            "justify_items": null,
            "left": null,
            "margin": null,
            "max_height": null,
            "max_width": null,
            "min_height": null,
            "min_width": null,
            "object_fit": null,
            "object_position": null,
            "order": null,
            "overflow": null,
            "overflow_x": null,
            "overflow_y": null,
            "padding": null,
            "right": null,
            "top": null,
            "visibility": null,
            "width": null
          }
        },
        "8cb83cb892b34118b4fb4d87904c5629": {
          "model_module": "@jupyter-widgets/base",
          "model_module_version": "1.2.0",
          "model_name": "LayoutModel",
          "state": {
            "_model_module": "@jupyter-widgets/base",
            "_model_module_version": "1.2.0",
            "_model_name": "LayoutModel",
            "_view_count": null,
            "_view_module": "@jupyter-widgets/base",
            "_view_module_version": "1.2.0",
            "_view_name": "LayoutView",
            "align_content": null,
            "align_items": null,
            "align_self": null,
            "border": null,
            "bottom": null,
            "display": null,
            "flex": null,
            "flex_flow": null,
            "grid_area": null,
            "grid_auto_columns": null,
            "grid_auto_flow": null,
            "grid_auto_rows": null,
            "grid_column": null,
            "grid_gap": null,
            "grid_row": null,
            "grid_template_areas": null,
            "grid_template_columns": null,
            "grid_template_rows": null,
            "height": null,
            "justify_content": null,
            "justify_items": null,
            "left": null,
            "margin": null,
            "max_height": null,
            "max_width": null,
            "min_height": null,
            "min_width": null,
            "object_fit": null,
            "object_position": null,
            "order": null,
            "overflow": null,
            "overflow_x": null,
            "overflow_y": null,
            "padding": null,
            "right": null,
            "top": null,
            "visibility": null,
            "width": null
          }
        },
        "9085b34bf67f47838a4bef9e9390ae81": {
          "model_module": "@jupyter-widgets/controls",
          "model_module_version": "1.5.0",
          "model_name": "HBoxModel",
          "state": {
            "_dom_classes": [],
            "_model_module": "@jupyter-widgets/controls",
            "_model_module_version": "1.5.0",
            "_model_name": "HBoxModel",
            "_view_count": null,
            "_view_module": "@jupyter-widgets/controls",
            "_view_module_version": "1.5.0",
            "_view_name": "HBoxView",
            "box_style": "",
            "children": [
              "IPY_MODEL_5d8dda2fce2f47b39c06fcc935b7646b",
              "IPY_MODEL_1208aa11fb504c6bb0884c746ea58e08",
              "IPY_MODEL_7920f8e5a8864d1bb50ab1fb9470208a"
            ],
            "layout": "IPY_MODEL_efa84e0a14644c5391de9ff598acb8dd"
          }
        },
        "9432f059dbed43338511c9e70c6f307b": {
          "model_module": "@jupyter-widgets/base",
          "model_module_version": "1.2.0",
          "model_name": "LayoutModel",
          "state": {
            "_model_module": "@jupyter-widgets/base",
            "_model_module_version": "1.2.0",
            "_model_name": "LayoutModel",
            "_view_count": null,
            "_view_module": "@jupyter-widgets/base",
            "_view_module_version": "1.2.0",
            "_view_name": "LayoutView",
            "align_content": null,
            "align_items": null,
            "align_self": null,
            "border": null,
            "bottom": null,
            "display": null,
            "flex": null,
            "flex_flow": null,
            "grid_area": null,
            "grid_auto_columns": null,
            "grid_auto_flow": null,
            "grid_auto_rows": null,
            "grid_column": null,
            "grid_gap": null,
            "grid_row": null,
            "grid_template_areas": null,
            "grid_template_columns": null,
            "grid_template_rows": null,
            "height": null,
            "justify_content": null,
            "justify_items": null,
            "left": null,
            "margin": null,
            "max_height": null,
            "max_width": null,
            "min_height": null,
            "min_width": null,
            "object_fit": null,
            "object_position": null,
            "order": null,
            "overflow": null,
            "overflow_x": null,
            "overflow_y": null,
            "padding": null,
            "right": null,
            "top": null,
            "visibility": null,
            "width": null
          }
        },
        "a40c410697364af58a57bf3ea2dfa318": {
          "model_module": "@jupyter-widgets/controls",
          "model_module_version": "1.5.0",
          "model_name": "DescriptionStyleModel",
          "state": {
            "_model_module": "@jupyter-widgets/controls",
            "_model_module_version": "1.5.0",
            "_model_name": "DescriptionStyleModel",
            "_view_count": null,
            "_view_module": "@jupyter-widgets/base",
            "_view_module_version": "1.2.0",
            "_view_name": "StyleView",
            "description_width": ""
          }
        },
        "a4f9f599104a429aa65b49b68d7842ad": {
          "model_module": "@jupyter-widgets/base",
          "model_module_version": "1.2.0",
          "model_name": "LayoutModel",
          "state": {
            "_model_module": "@jupyter-widgets/base",
            "_model_module_version": "1.2.0",
            "_model_name": "LayoutModel",
            "_view_count": null,
            "_view_module": "@jupyter-widgets/base",
            "_view_module_version": "1.2.0",
            "_view_name": "LayoutView",
            "align_content": null,
            "align_items": null,
            "align_self": null,
            "border": null,
            "bottom": null,
            "display": null,
            "flex": null,
            "flex_flow": null,
            "grid_area": null,
            "grid_auto_columns": null,
            "grid_auto_flow": null,
            "grid_auto_rows": null,
            "grid_column": null,
            "grid_gap": null,
            "grid_row": null,
            "grid_template_areas": null,
            "grid_template_columns": null,
            "grid_template_rows": null,
            "height": null,
            "justify_content": null,
            "justify_items": null,
            "left": null,
            "margin": null,
            "max_height": null,
            "max_width": null,
            "min_height": null,
            "min_width": null,
            "object_fit": null,
            "object_position": null,
            "order": null,
            "overflow": null,
            "overflow_x": null,
            "overflow_y": null,
            "padding": null,
            "right": null,
            "top": null,
            "visibility": null,
            "width": null
          }
        },
        "a76f6c6afa15456da9f38fe615ee515b": {
          "model_module": "@jupyter-widgets/base",
          "model_module_version": "1.2.0",
          "model_name": "LayoutModel",
          "state": {
            "_model_module": "@jupyter-widgets/base",
            "_model_module_version": "1.2.0",
            "_model_name": "LayoutModel",
            "_view_count": null,
            "_view_module": "@jupyter-widgets/base",
            "_view_module_version": "1.2.0",
            "_view_name": "LayoutView",
            "align_content": null,
            "align_items": null,
            "align_self": null,
            "border": null,
            "bottom": null,
            "display": null,
            "flex": null,
            "flex_flow": null,
            "grid_area": null,
            "grid_auto_columns": null,
            "grid_auto_flow": null,
            "grid_auto_rows": null,
            "grid_column": null,
            "grid_gap": null,
            "grid_row": null,
            "grid_template_areas": null,
            "grid_template_columns": null,
            "grid_template_rows": null,
            "height": null,
            "justify_content": null,
            "justify_items": null,
            "left": null,
            "margin": null,
            "max_height": null,
            "max_width": null,
            "min_height": null,
            "min_width": null,
            "object_fit": null,
            "object_position": null,
            "order": null,
            "overflow": null,
            "overflow_x": null,
            "overflow_y": null,
            "padding": null,
            "right": null,
            "top": null,
            "visibility": null,
            "width": null
          }
        },
        "aec665fa56884970a3c0412c161e971e": {
          "model_module": "@jupyter-widgets/controls",
          "model_module_version": "1.5.0",
          "model_name": "HTMLModel",
          "state": {
            "_dom_classes": [],
            "_model_module": "@jupyter-widgets/controls",
            "_model_module_version": "1.5.0",
            "_model_name": "HTMLModel",
            "_view_count": null,
            "_view_module": "@jupyter-widgets/controls",
            "_view_module_version": "1.5.0",
            "_view_name": "HTMLView",
            "description": "",
            "description_tooltip": null,
            "layout": "IPY_MODEL_38ce44e1ca914aed81d09fc183486a6c",
            "placeholder": "​",
            "style": "IPY_MODEL_21d1473dd53b4897a9de80d4d68f659f",
            "value": "Epoch 1: 100%"
          }
        },
        "b05ca81471794e0a9a4d64ededc71744": {
          "model_module": "@jupyter-widgets/base",
          "model_module_version": "1.2.0",
          "model_name": "LayoutModel",
          "state": {
            "_model_module": "@jupyter-widgets/base",
            "_model_module_version": "1.2.0",
            "_model_name": "LayoutModel",
            "_view_count": null,
            "_view_module": "@jupyter-widgets/base",
            "_view_module_version": "1.2.0",
            "_view_name": "LayoutView",
            "align_content": null,
            "align_items": null,
            "align_self": null,
            "border": null,
            "bottom": null,
            "display": null,
            "flex": null,
            "flex_flow": null,
            "grid_area": null,
            "grid_auto_columns": null,
            "grid_auto_flow": null,
            "grid_auto_rows": null,
            "grid_column": null,
            "grid_gap": null,
            "grid_row": null,
            "grid_template_areas": null,
            "grid_template_columns": null,
            "grid_template_rows": null,
            "height": null,
            "justify_content": null,
            "justify_items": null,
            "left": null,
            "margin": null,
            "max_height": null,
            "max_width": null,
            "min_height": null,
            "min_width": null,
            "object_fit": null,
            "object_position": null,
            "order": null,
            "overflow": null,
            "overflow_x": null,
            "overflow_y": null,
            "padding": null,
            "right": null,
            "top": null,
            "visibility": null,
            "width": null
          }
        },
        "ba6f24d64bb8457cba6e50cb0ff17136": {
          "model_module": "@jupyter-widgets/base",
          "model_module_version": "1.2.0",
          "model_name": "LayoutModel",
          "state": {
            "_model_module": "@jupyter-widgets/base",
            "_model_module_version": "1.2.0",
            "_model_name": "LayoutModel",
            "_view_count": null,
            "_view_module": "@jupyter-widgets/base",
            "_view_module_version": "1.2.0",
            "_view_name": "LayoutView",
            "align_content": null,
            "align_items": null,
            "align_self": null,
            "border": null,
            "bottom": null,
            "display": null,
            "flex": null,
            "flex_flow": null,
            "grid_area": null,
            "grid_auto_columns": null,
            "grid_auto_flow": null,
            "grid_auto_rows": null,
            "grid_column": null,
            "grid_gap": null,
            "grid_row": null,
            "grid_template_areas": null,
            "grid_template_columns": null,
            "grid_template_rows": null,
            "height": null,
            "justify_content": null,
            "justify_items": null,
            "left": null,
            "margin": null,
            "max_height": null,
            "max_width": null,
            "min_height": null,
            "min_width": null,
            "object_fit": null,
            "object_position": null,
            "order": null,
            "overflow": null,
            "overflow_x": null,
            "overflow_y": null,
            "padding": null,
            "right": null,
            "top": null,
            "visibility": null,
            "width": null
          }
        },
        "bafdef51fb2a4a9e97ca91f5529d556c": {
          "model_module": "@jupyter-widgets/base",
          "model_module_version": "1.2.0",
          "model_name": "LayoutModel",
          "state": {
            "_model_module": "@jupyter-widgets/base",
            "_model_module_version": "1.2.0",
            "_model_name": "LayoutModel",
            "_view_count": null,
            "_view_module": "@jupyter-widgets/base",
            "_view_module_version": "1.2.0",
            "_view_name": "LayoutView",
            "align_content": null,
            "align_items": null,
            "align_self": null,
            "border": null,
            "bottom": null,
            "display": null,
            "flex": null,
            "flex_flow": null,
            "grid_area": null,
            "grid_auto_columns": null,
            "grid_auto_flow": null,
            "grid_auto_rows": null,
            "grid_column": null,
            "grid_gap": null,
            "grid_row": null,
            "grid_template_areas": null,
            "grid_template_columns": null,
            "grid_template_rows": null,
            "height": null,
            "justify_content": null,
            "justify_items": null,
            "left": null,
            "margin": null,
            "max_height": null,
            "max_width": null,
            "min_height": null,
            "min_width": null,
            "object_fit": null,
            "object_position": null,
            "order": null,
            "overflow": null,
            "overflow_x": null,
            "overflow_y": null,
            "padding": null,
            "right": null,
            "top": null,
            "visibility": null,
            "width": null
          }
        },
        "bd03e2f2ffe849ba992d0012f53daa2f": {
          "model_module": "@jupyter-widgets/controls",
          "model_module_version": "1.5.0",
          "model_name": "HTMLModel",
          "state": {
            "_dom_classes": [],
            "_model_module": "@jupyter-widgets/controls",
            "_model_module_version": "1.5.0",
            "_model_name": "HTMLModel",
            "_view_count": null,
            "_view_module": "@jupyter-widgets/controls",
            "_view_module_version": "1.5.0",
            "_view_name": "HTMLView",
            "description": "",
            "description_tooltip": null,
            "layout": "IPY_MODEL_8cb83cb892b34118b4fb4d87904c5629",
            "placeholder": "​",
            "style": "IPY_MODEL_c8dac0db521b4e568fb48adefe0f53a5",
            "value": " 50000/50000 [06:08&lt;00:00, 142.99batch/s]"
          }
        },
        "c7a229fddf414f4ca634bed92d8ef72d": {
          "model_module": "@jupyter-widgets/controls",
          "model_module_version": "1.5.0",
          "model_name": "ProgressStyleModel",
          "state": {
            "_model_module": "@jupyter-widgets/controls",
            "_model_module_version": "1.5.0",
            "_model_name": "ProgressStyleModel",
            "_view_count": null,
            "_view_module": "@jupyter-widgets/base",
            "_view_module_version": "1.2.0",
            "_view_name": "StyleView",
            "bar_color": null,
            "description_width": ""
          }
        },
        "c7d2ea87b4cb48dea7d9316997bfc498": {
          "model_module": "@jupyter-widgets/base",
          "model_module_version": "1.2.0",
          "model_name": "LayoutModel",
          "state": {
            "_model_module": "@jupyter-widgets/base",
            "_model_module_version": "1.2.0",
            "_model_name": "LayoutModel",
            "_view_count": null,
            "_view_module": "@jupyter-widgets/base",
            "_view_module_version": "1.2.0",
            "_view_name": "LayoutView",
            "align_content": null,
            "align_items": null,
            "align_self": null,
            "border": null,
            "bottom": null,
            "display": null,
            "flex": null,
            "flex_flow": null,
            "grid_area": null,
            "grid_auto_columns": null,
            "grid_auto_flow": null,
            "grid_auto_rows": null,
            "grid_column": null,
            "grid_gap": null,
            "grid_row": null,
            "grid_template_areas": null,
            "grid_template_columns": null,
            "grid_template_rows": null,
            "height": null,
            "justify_content": null,
            "justify_items": null,
            "left": null,
            "margin": null,
            "max_height": null,
            "max_width": null,
            "min_height": null,
            "min_width": null,
            "object_fit": null,
            "object_position": null,
            "order": null,
            "overflow": null,
            "overflow_x": null,
            "overflow_y": null,
            "padding": null,
            "right": null,
            "top": null,
            "visibility": null,
            "width": null
          }
        },
        "c8ce41190d1f499ebbc49ce8a2761208": {
          "model_module": "@jupyter-widgets/controls",
          "model_module_version": "1.5.0",
          "model_name": "ProgressStyleModel",
          "state": {
            "_model_module": "@jupyter-widgets/controls",
            "_model_module_version": "1.5.0",
            "_model_name": "ProgressStyleModel",
            "_view_count": null,
            "_view_module": "@jupyter-widgets/base",
            "_view_module_version": "1.2.0",
            "_view_name": "StyleView",
            "bar_color": null,
            "description_width": ""
          }
        },
        "c8dac0db521b4e568fb48adefe0f53a5": {
          "model_module": "@jupyter-widgets/controls",
          "model_module_version": "1.5.0",
          "model_name": "DescriptionStyleModel",
          "state": {
            "_model_module": "@jupyter-widgets/controls",
            "_model_module_version": "1.5.0",
            "_model_name": "DescriptionStyleModel",
            "_view_count": null,
            "_view_module": "@jupyter-widgets/base",
            "_view_module_version": "1.2.0",
            "_view_name": "StyleView",
            "description_width": ""
          }
        },
        "cdf00e1739a949d7adaa31589ef0e0b2": {
          "model_module": "@jupyter-widgets/controls",
          "model_module_version": "1.5.0",
          "model_name": "DescriptionStyleModel",
          "state": {
            "_model_module": "@jupyter-widgets/controls",
            "_model_module_version": "1.5.0",
            "_model_name": "DescriptionStyleModel",
            "_view_count": null,
            "_view_module": "@jupyter-widgets/base",
            "_view_module_version": "1.2.0",
            "_view_name": "StyleView",
            "description_width": ""
          }
        },
        "cee5338bd6d44c7d8b7d5e97a1cd7087": {
          "model_module": "@jupyter-widgets/controls",
          "model_module_version": "1.5.0",
          "model_name": "HBoxModel",
          "state": {
            "_dom_classes": [],
            "_model_module": "@jupyter-widgets/controls",
            "_model_module_version": "1.5.0",
            "_model_name": "HBoxModel",
            "_view_count": null,
            "_view_module": "@jupyter-widgets/controls",
            "_view_module_version": "1.5.0",
            "_view_name": "HBoxView",
            "box_style": "",
            "children": [
              "IPY_MODEL_e1ff1f72ba6d4cd8b47d47b7fdb59482",
              "IPY_MODEL_3ee2881129c341c3be6ddbe7d4711439",
              "IPY_MODEL_3de7bbda56c24697b456363d0a30b5cc"
            ],
            "layout": "IPY_MODEL_68c6d6b083eb4d09abf13dc238ccbb4d"
          }
        },
        "d167dd8cc180480392e9b92eeda214db": {
          "model_module": "@jupyter-widgets/controls",
          "model_module_version": "1.5.0",
          "model_name": "HTMLModel",
          "state": {
            "_dom_classes": [],
            "_model_module": "@jupyter-widgets/controls",
            "_model_module_version": "1.5.0",
            "_model_name": "HTMLModel",
            "_view_count": null,
            "_view_module": "@jupyter-widgets/controls",
            "_view_module_version": "1.5.0",
            "_view_name": "HTMLView",
            "description": "",
            "description_tooltip": null,
            "layout": "IPY_MODEL_723ad3b81592437ab1e44bfd45fe8bf4",
            "placeholder": "​",
            "style": "IPY_MODEL_5595d3a9c31d48c3b0e3cf61b817a731",
            "value": "Creating labels map: 100%"
          }
        },
        "e04fa11a078344fcab8c44a13c4605a5": {
          "model_module": "@jupyter-widgets/controls",
          "model_module_version": "1.5.0",
          "model_name": "DescriptionStyleModel",
          "state": {
            "_model_module": "@jupyter-widgets/controls",
            "_model_module_version": "1.5.0",
            "_model_name": "DescriptionStyleModel",
            "_view_count": null,
            "_view_module": "@jupyter-widgets/base",
            "_view_module_version": "1.2.0",
            "_view_name": "StyleView",
            "description_width": ""
          }
        },
        "e0aeab1886d847509d22b5c1f80e417f": {
          "model_module": "@jupyter-widgets/controls",
          "model_module_version": "1.5.0",
          "model_name": "ProgressStyleModel",
          "state": {
            "_model_module": "@jupyter-widgets/controls",
            "_model_module_version": "1.5.0",
            "_model_name": "ProgressStyleModel",
            "_view_count": null,
            "_view_module": "@jupyter-widgets/base",
            "_view_module_version": "1.2.0",
            "_view_name": "StyleView",
            "bar_color": null,
            "description_width": ""
          }
        },
        "e1ff1f72ba6d4cd8b47d47b7fdb59482": {
          "model_module": "@jupyter-widgets/controls",
          "model_module_version": "1.5.0",
          "model_name": "HTMLModel",
          "state": {
            "_dom_classes": [],
            "_model_module": "@jupyter-widgets/controls",
            "_model_module_version": "1.5.0",
            "_model_name": "HTMLModel",
            "_view_count": null,
            "_view_module": "@jupyter-widgets/controls",
            "_view_module_version": "1.5.0",
            "_view_name": "HTMLView",
            "description": "",
            "description_tooltip": null,
            "layout": "IPY_MODEL_46d560f0469b422e9b050785e72e9af2",
            "placeholder": "​",
            "style": "IPY_MODEL_82b9987f6616483eb503a0b07e91bd0a",
            "value": "Creating labels map: 100%"
          }
        },
        "efa84e0a14644c5391de9ff598acb8dd": {
          "model_module": "@jupyter-widgets/base",
          "model_module_version": "1.2.0",
          "model_name": "LayoutModel",
          "state": {
            "_model_module": "@jupyter-widgets/base",
            "_model_module_version": "1.2.0",
            "_model_name": "LayoutModel",
            "_view_count": null,
            "_view_module": "@jupyter-widgets/base",
            "_view_module_version": "1.2.0",
            "_view_name": "LayoutView",
            "align_content": null,
            "align_items": null,
            "align_self": null,
            "border": null,
            "bottom": null,
            "display": null,
            "flex": null,
            "flex_flow": null,
            "grid_area": null,
            "grid_auto_columns": null,
            "grid_auto_flow": null,
            "grid_auto_rows": null,
            "grid_column": null,
            "grid_gap": null,
            "grid_row": null,
            "grid_template_areas": null,
            "grid_template_columns": null,
            "grid_template_rows": null,
            "height": null,
            "justify_content": null,
            "justify_items": null,
            "left": null,
            "margin": null,
            "max_height": null,
            "max_width": null,
            "min_height": null,
            "min_width": null,
            "object_fit": null,
            "object_position": null,
            "order": null,
            "overflow": null,
            "overflow_x": null,
            "overflow_y": null,
            "padding": null,
            "right": null,
            "top": null,
            "visibility": null,
            "width": null
          }
        },
        "f613b1e3f3b8480c932de8a30643049e": {
          "model_module": "@jupyter-widgets/base",
          "model_module_version": "1.2.0",
          "model_name": "LayoutModel",
          "state": {
            "_model_module": "@jupyter-widgets/base",
            "_model_module_version": "1.2.0",
            "_model_name": "LayoutModel",
            "_view_count": null,
            "_view_module": "@jupyter-widgets/base",
            "_view_module_version": "1.2.0",
            "_view_name": "LayoutView",
            "align_content": null,
            "align_items": null,
            "align_self": null,
            "border": null,
            "bottom": null,
            "display": null,
            "flex": null,
            "flex_flow": null,
            "grid_area": null,
            "grid_auto_columns": null,
            "grid_auto_flow": null,
            "grid_auto_rows": null,
            "grid_column": null,
            "grid_gap": null,
            "grid_row": null,
            "grid_template_areas": null,
            "grid_template_columns": null,
            "grid_template_rows": null,
            "height": null,
            "justify_content": null,
            "justify_items": null,
            "left": null,
            "margin": null,
            "max_height": null,
            "max_width": null,
            "min_height": null,
            "min_width": null,
            "object_fit": null,
            "object_position": null,
            "order": null,
            "overflow": null,
            "overflow_x": null,
            "overflow_y": null,
            "padding": null,
            "right": null,
            "top": null,
            "visibility": null,
            "width": null
          }
        },
        "f6edeb530625491e9f2e483c0f5eb023": {
          "model_module": "@jupyter-widgets/controls",
          "model_module_version": "1.5.0",
          "model_name": "HTMLModel",
          "state": {
            "_dom_classes": [],
            "_model_module": "@jupyter-widgets/controls",
            "_model_module_version": "1.5.0",
            "_model_name": "HTMLModel",
            "_view_count": null,
            "_view_module": "@jupyter-widgets/controls",
            "_view_module_version": "1.5.0",
            "_view_name": "HTMLView",
            "description": "",
            "description_tooltip": null,
            "layout": "IPY_MODEL_bafdef51fb2a4a9e97ca91f5529d556c",
            "placeholder": "​",
            "style": "IPY_MODEL_628b69c55f654479bab8eb6ed1c5ac16",
            "value": " 50000/50000 [06:02&lt;00:00, 148.99it/s]"
          }
        }
      }
    }
  },
  "nbformat": 4,
  "nbformat_minor": 0
}
